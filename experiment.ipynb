{
 "cells": [
  {
   "cell_type": "code",
   "execution_count": null,
   "id": "3a57c7322e776b59",
   "metadata": {
    "ExecuteTime": {
     "end_time": "2025-03-19T22:53:52.893549Z",
     "start_time": "2025-03-19T22:53:26.491679Z"
    },
    "vscode": {
     "languageId": "shellscript"
    }
   },
   "outputs": [],
   "source": [
    "!pip install setuptools==58.2.0 packaging==23.2\n",
    "!pip install python-terrier==0.12.1\n",
    "!pip install pandas\n",
    "!pip install torch==2.6.0+cu118 torchvision torchaudio --index-url https://download.pytorch.org/whl/cu118\n",
    "!pip install --upgrade git+https://github.com/terrierteam/pyterrier_colbert.git\n",
    "!pip install --upgrade git+https://github.com/cmacdonald/pyterrier_bert.git\n",
    "!pip install faiss-cpu --no-cache-dir"
   ]
  },
  {
   "cell_type": "markdown",
   "id": "9dbac7e6338bd012",
   "metadata": {},
   "source": [
    "The code below preferably should print True before running the experiments; if it's True, it will run faster"
   ]
  },
  {
   "cell_type": "code",
   "execution_count": null,
   "id": "6a4e3062eee800d1",
   "metadata": {
    "ExecuteTime": {
     "end_time": "2025-03-19T22:53:59.012435Z",
     "start_time": "2025-03-19T22:53:57.440237Z"
    }
   },
   "outputs": [],
   "source": [
    "import torch\n",
    "print(torch.cuda.is_available())\n",
    "print(torch.cuda.device_count())"
   ]
  },
  {
   "cell_type": "code",
   "execution_count": 2,
   "id": "1d0af244",
   "metadata": {},
   "outputs": [],
   "source": [
    "# For the ColBERT cells to work, replace the following file with the one from replacement-files/:\n",
    "# .venv/Lib/site-packages/pyterrier_colbert/indexing.py\n",
    "# Note: restarting VSCode is also necessary for the .venv to get updated properly\n",
    "\n",
    "# More details: The replacement-file has the compute_throughput() usages commented out\n",
    "# (the method was solely used in print-commands, so no core functionality is affected)\n",
    "# (it was throwing ZeroDivisionError via the subtracted timestamps in the denominator)"
   ]
  },
  {
   "cell_type": "code",
   "execution_count": 3,
   "id": "04987ca7",
   "metadata": {},
   "outputs": [],
   "source": [
    "import pyterrier as pt\n",
    "import pandas as pd\n",
    "import os\n",
    "from pyterrier.measures import MAP, nDCG, MRR"
   ]
  },
  {
   "cell_type": "code",
   "execution_count": 4,
   "id": "30a1c825",
   "metadata": {},
   "outputs": [],
   "source": [
    "vaswani = pt.get_dataset(\"irds:vaswani\")"
   ]
  },
  {
   "cell_type": "code",
   "execution_count": null,
   "id": "9be47023",
   "metadata": {},
   "outputs": [],
   "source": [
    "vaswani_index_src = os.path.abspath(\"vaswani-index\")\n",
    "if not os.path.exists(vaswani_index_src):\n",
    "    print(\"Creating a new Vaswani index for BM25 and RM3...\")\n",
    "    pt.index.IterDictIndexer(vaswani_index_src, blocks=True, meta={\"docno\": 20, \"text\": 4096}).index(vaswani.get_corpus_iter(), fields=[\"docno\", \"text\"])\n",
    "\n",
    "vaswani_index = pt.IndexFactory.of(vaswani_index_src)"
   ]
  },
  {
   "cell_type": "code",
   "execution_count": 6,
   "id": "0df91db5",
   "metadata": {},
   "outputs": [],
   "source": [
    "queries = vaswani.get_topics()\n",
    "qrels = vaswani.get_qrels()"
   ]
  },
  {
   "cell_type": "code",
   "execution_count": 5,
   "id": "ce86e0e4",
   "metadata": {},
   "outputs": [],
   "source": [
    "bm25 = pt.terrier.Retriever(vaswani_index, wmodel=\"BM25\", metadata=[\"docno\", \"text\"])\n",
    "rm3 = pt.rewrite.RM3(vaswani_index)\n",
    "rm3_pipeline = bm25 >> rm3 >> bm25"
   ]
  },
  {
   "cell_type": "code",
   "execution_count": null,
   "id": "62260773",
   "metadata": {},
   "outputs": [],
   "source": [
    "pt.Experiment(\n",
    "    [bm25, rm3_pipeline],\n",
    "    queries,\n",
    "    qrels,\n",
    "    [MAP, nDCG @ 10, MRR @ 10],\n",
    "    [\"BM25\", \"BM25 >> RM3 >> BM25\"]\n",
    ")"
   ]
  },
  {
   "cell_type": "code",
   "execution_count": null,
   "id": "65070aca",
   "metadata": {},
   "outputs": [],
   "source": [
    "from pyterrier_colbert.indexing import ColBERTIndexer\n",
    "from pyterrier_colbert.ranking import ColBERTFactory\n",
    "import wget\n",
    "import zipfile"
   ]
  },
  {
   "cell_type": "code",
   "execution_count": null,
   "id": "80da348e",
   "metadata": {},
   "outputs": [],
   "source": [
    "checkpoint_url = \"http://www.dcs.gla.ac.uk/~craigm/colbert.dnn.zip\"\n",
    "extract_dir = \"colbert_checkpoint\"\n",
    "checkpoint_path = \"colbert_checkpoint.zip\"\n",
    "\n",
    "if not os.path.exists(checkpoint_path):\n",
    "    print(\"Downloading checkpoint...\")\n",
    "    wget.download(checkpoint_url, checkpoint_path)\n",
    "if not os.path.exists(extract_dir):\n",
    "    with zipfile.ZipFile(checkpoint_path, 'r') as zip_ref:\n",
    "        zip_ref.extractall(extract_dir)\n",
    "\n",
    "colbert_checkpoint_path = os.path.abspath(\"colbert_checkpoint/colbert.dnn\")\n",
    "index_root = os.path.abspath(\"vaswani-index\")\n",
    "index_name = os.path.abspath(\"vaswani-colbert-index\")\n",
    "\n",
    "if not os.path.exists(index_name):\n",
    "    print(\"Index not found. Creating a new Vaswani index for ColBERT...\")\n",
    "    colbert_index = ColBERTIndexer(\n",
    "        checkpoint=colbert_checkpoint_path,\n",
    "        index_root=index_root,\n",
    "        index_name=index_name,\n",
    "        chunksize=64, # Maybe even 128, the allowed maximum --> it regulates the size of PyTorch temp files that are created by the indexer\n",
    "        gpu=True # if the torch.cuda returned False, comment this\n",
    "    )\n",
    "    colbert_index.index(vaswani.get_corpus_iter())\n",
    "    print(\"Index successfully created!\")"
   ]
  },
  {
   "cell_type": "code",
   "execution_count": null,
   "id": "09d02e8e",
   "metadata": {},
   "outputs": [],
   "source": [
    "pytcolbert = ColBERTFactory(colbert_checkpoint_path, index_root, index_name)"
   ]
  },
  {
   "cell_type": "code",
   "execution_count": 10,
   "id": "783b9582",
   "metadata": {},
   "outputs": [],
   "source": [
    "sparse_colbert = bm25 >> pytcolbert.text_scorer()"
   ]
  },
  {
   "cell_type": "code",
   "execution_count": null,
   "id": "e805540d",
   "metadata": {},
   "outputs": [],
   "source": [
    "pt.Experiment(\n",
    "    [bm25, sparse_colbert],\n",
    "    queries,\n",
    "    qrels,\n",
    "    [MAP, nDCG @ 10, MRR @ 10],\n",
    "    [\"BM25\", \"BM25 >> ColBERT\"]\n",
    ")"
   ]
  },
  {
   "cell_type": "code",
   "execution_count": null,
   "id": "e438e542",
   "metadata": {},
   "outputs": [],
   "source": [
    "fiqa = pt.get_dataset(\"irds:beir/fiqa/test\")"
   ]
  },
  {
   "cell_type": "code",
   "execution_count": null,
   "id": "e8862c12",
   "metadata": {},
   "outputs": [],
   "source": [
    "fiqa_index_src = os.path.abspath(\"fiqa-index\")\n",
    "if not os.path.exists(fiqa_index_src):\n",
    "    print(\"Creating a new FIQA index for BM25 and RM3...\")\n",
    "    pt.index.IterDictIndexer(fiqa_index_src, blocks=True, meta={\"docno\": 20, \"text\": 131072}).index(fiqa.get_corpus_iter(), fields=[\"docno\", \"text\"])\n",
    "\n",
    "fiqa_index = pt.IndexFactory.of(fiqa_index_src)"
   ]
  },
  {
   "cell_type": "code",
   "execution_count": null,
   "id": "14ff3acb",
   "metadata": {},
   "outputs": [],
   "source": [
    "queries = fiqa.get_topics()\n",
    "qrels = fiqa.get_qrels()"
   ]
  },
  {
   "cell_type": "code",
   "execution_count": null,
   "id": "74fb06a1",
   "metadata": {},
   "outputs": [],
   "source": [
    "bm25 = pt.terrier.Retriever(fiqa_index, wmodel=\"BM25\", metadata=[\"docno\", \"text\"])\n",
    "rm3 = pt.rewrite.RM3(fiqa_index)\n",
    "rm3_pipeline = bm25 >> rm3 >> bm25"
   ]
  },
  {
   "cell_type": "code",
   "execution_count": null,
   "id": "9d9f963b",
   "metadata": {},
   "outputs": [],
   "source": [
    "pt.Experiment(\n",
    "    [bm25, rm3_pipeline],\n",
    "    queries,\n",
    "    qrels,\n",
    "    [MAP, nDCG @ 10, MRR @ 10],\n",
    "    [\"BM25\", \"BM25 >> RM3 >> BM25\"]\n",
    ")"
   ]
  },
  {
   "cell_type": "code",
   "execution_count": null,
   "id": "16a6718e",
   "metadata": {},
   "outputs": [],
   "source": [
    "checkpoint_url = \"http://www.dcs.gla.ac.uk/~craigm/colbert.dnn.zip\"\n",
    "extract_dir = \"colbert_checkpoint\"\n",
    "checkpoint_path = \"colbert_checkpoint.zip\"\n",
    "\n",
    "if not os.path.exists(checkpoint_path):\n",
    "    print(\"Downloading checkpoint...\")\n",
    "    wget.download(checkpoint_url, checkpoint_path)\n",
    "if not os.path.exists(extract_dir):\n",
    "    with zipfile.ZipFile(checkpoint_path, 'r') as zip_ref:\n",
    "        zip_ref.extractall(extract_dir)\n",
    "\n",
    "colbert_checkpoint_path = os.path.abspath(\"colbert_checkpoint/colbert.dnn\")\n",
    "index_root = os.path.abspath(\"fiqa-index\")\n",
    "index_name = os.path.abspath(\"fiqa-colbert-index\")\n",
    "\n",
    "if not os.path.exists(index_name):\n",
    "    print(\"Index not found. Creating a new FIQA index for ColBERT...\")\n",
    "    colbert_index = ColBERTIndexer(\n",
    "        checkpoint=colbert_checkpoint_path,\n",
    "        index_root=index_root,\n",
    "        index_name=index_name,\n",
    "        chunksize=64, # Maybe even 128, the allowed maximum --> it regulates the size of PyTorch temp files that are created by the indexer\n",
    "        gpu=True # if the torch.cuda returned False, comment this\n",
    "    )\n",
    "    colbert_index.index(fiqa.get_corpus_iter())\n",
    "    print(\"Index successfully created!\")"
   ]
  },
  {
   "cell_type": "code",
   "execution_count": null,
   "id": "398e7049",
   "metadata": {},
   "outputs": [],
   "source": [
    "pytcolbert = ColBERTFactory(colbert_checkpoint_path, index_root, index_name)"
   ]
  },
  {
   "cell_type": "code",
   "execution_count": null,
   "id": "7ef49488",
   "metadata": {},
   "outputs": [],
   "source": [
    "sparse_colbert = bm25 >> pytcolbert.text_scorer()"
   ]
  },
  {
   "cell_type": "code",
   "execution_count": null,
   "id": "9447b114",
   "metadata": {},
   "outputs": [],
   "source": [
    "pt.Experiment(\n",
    "    [bm25, sparse_colbert],\n",
    "    queries,\n",
    "    qrels,\n",
    "    [MAP, nDCG @ 10, MRR @ 10],\n",
    "    [\"BM25\", \"BM25 >> ColBERT\"]\n",
    ")"
   ]
  },
  {
   "cell_type": "code",
   "execution_count": null,
   "id": "f6668402",
   "metadata": {},
   "outputs": [],
   "source": [
    "antique = pt.get_dataset(\"irds:antique/test\")"
   ]
  },
  {
   "cell_type": "code",
   "execution_count": null,
   "id": "2d0e83bc",
   "metadata": {},
   "outputs": [],
   "source": [
    "antique_index_src = os.path.abspath(\"antique-index\")\n",
    "if not os.path.exists(antique_index_src):\n",
    "    print(\"Creating a new Antique index for BM25 and RM3...\")\n",
    "    pt.index.IterDictIndexer(antique_index_src, blocks=True, meta={\"docno\": 20, \"text\": 131072}).index(antique.get_corpus_iter(), fields=[\"docno\", \"text\"])\n",
    "\n",
    "antique_index = pt.IndexFactory.of(antique_index_src)"
   ]
  },
  {
   "cell_type": "code",
   "execution_count": null,
   "id": "11e2fe84",
   "metadata": {},
   "outputs": [],
   "source": [
    "queries = antique.get_topics()\n",
    "qrels = antique.get_qrels()"
   ]
  },
  {
   "cell_type": "code",
   "execution_count": null,
   "id": "d85ed7d4",
   "metadata": {},
   "outputs": [],
   "source": [
    "bm25 = pt.terrier.Retriever(antique_index, wmodel=\"BM25\", metadata=[\"docno\", \"text\"])\n",
    "rm3 = pt.rewrite.RM3(antique_index)\n",
    "rm3_pipeline = bm25 >> rm3 >> bm25"
   ]
  },
  {
   "cell_type": "code",
   "execution_count": null,
   "id": "1d33e0f1",
   "metadata": {},
   "outputs": [],
   "source": [
    "pt.Experiment(\n",
    "    [bm25, rm3_pipeline],\n",
    "    queries,\n",
    "    qrels,\n",
    "    [MAP, nDCG @ 10, MRR @ 10],\n",
    "    [\"BM25\", \"BM25 >> RM3 >> BM25\"]\n",
    ")"
   ]
  },
  {
   "cell_type": "code",
   "execution_count": null,
   "id": "3fdafc65",
   "metadata": {},
   "outputs": [],
   "source": [
    "checkpoint_url = \"http://www.dcs.gla.ac.uk/~craigm/colbert.dnn.zip\"\n",
    "extract_dir = \"colbert_checkpoint\"\n",
    "checkpoint_path = \"colbert_checkpoint.zip\"\n",
    "\n",
    "if not os.path.exists(checkpoint_path):\n",
    "    print(\"Downloading checkpoint...\")\n",
    "    wget.download(checkpoint_url, checkpoint_path)\n",
    "if not os.path.exists(extract_dir):\n",
    "    with zipfile.ZipFile(checkpoint_path, 'r') as zip_ref:\n",
    "        zip_ref.extractall(extract_dir)\n",
    "\n",
    "colbert_checkpoint_path = os.path.abspath(\"colbert_checkpoint/colbert.dnn\")\n",
    "index_root = os.path.abspath(\"antique-index\")\n",
    "index_name = os.path.abspath(\"antique-colbert-index\")\n",
    "\n",
    "if not os.path.exists(index_name):\n",
    "    print(\"Index not found. Creating a new Antique index for ColBERT...\")\n",
    "    colbert_index = ColBERTIndexer(\n",
    "        checkpoint=colbert_checkpoint_path,\n",
    "        index_root=index_root,\n",
    "        index_name=index_name,\n",
    "        chunksize=64, # Maybe even 128, the allowed maximum --> it regulates the size of PyTorch temp files that are created by the indexer\n",
    "        gpu=True # if the torch.cuda returned False, comment this\n",
    "    )\n",
    "    colbert_index.index(antique.get_corpus_iter())\n",
    "    print(\"Index successfully created!\")"
   ]
  },
  {
   "cell_type": "code",
   "execution_count": null,
   "id": "b1dab0a0",
   "metadata": {},
   "outputs": [],
   "source": [
    "pytcolbert = ColBERTFactory(colbert_checkpoint_path, index_root, index_name)"
   ]
  },
  {
   "cell_type": "code",
   "execution_count": null,
   "id": "cdb6f061",
   "metadata": {},
   "outputs": [],
   "source": [
    "sparse_colbert = bm25 >> pytcolbert.text_scorer()"
   ]
  },
  {
   "cell_type": "code",
   "execution_count": null,
   "id": "a7dc086f",
   "metadata": {},
   "outputs": [],
   "source": [
    "pt.Experiment(\n",
    "    [bm25, sparse_colbert],\n",
    "    queries,\n",
    "    qrels,\n",
    "    [MAP, nDCG @ 10, MRR @ 10],\n",
    "    [\"BM25\", \"BM25 >> ColBERT\"]\n",
    ")"
   ]
  },
  {
   "cell_type": "code",
   "execution_count": null,
   "id": "43f238749a6db9b",
   "metadata": {
    "ExecuteTime": {
     "end_time": "2025-03-19T22:54:10.499762Z",
     "start_time": "2025-03-19T22:54:00.351575Z"
    }
   },
   "outputs": [],
   "source": [
    "dataset_name = \"irds:msmarco-passage/trec-dl-2019/judged\"\n",
    "msmarco = pt.get_dataset(dataset_name)\n",
    "print(list(msmarco.get_corpus_iter())[0])\n",
    "\n",
    "# NOTE: The following datasets contain the 8.8M passages from the MSMARCO Passage dataset\n",
    "# They only differ in the number of queries and qrels that are included\n",
    "# Hence, the msmarco-index and colbert-index can be reused\n",
    "\n",
    "# Small dataset used to verify the latest changes:\n",
    "# \"irds:msmarco-passage/train/split200-valid\" (200 queries, 131 qrels)\n",
    "\n",
    "# Datasets to-be-used for actual experimentation:\n",
    "# \"irds:msmarco-passage/trec-dl-2019/judged\" (43 queries, 9.3K qrels)\n",
    "# \"irds:msmarco-passage/trec-dl-2020/judged\" (54 queries, 11K qrels)"
   ]
  },
  {
   "cell_type": "code",
   "execution_count": null,
   "id": "9557fffe1e287b2e",
   "metadata": {
    "ExecuteTime": {
     "end_time": "2025-03-19T22:55:01.317111Z",
     "start_time": "2025-03-19T22:55:00.208972Z"
    }
   },
   "outputs": [],
   "source": [
    "marco_index_src = os.path.abspath(\"msmarco-index\")\n",
    "if not os.path.exists(marco_index_src):\n",
    "    print(\"Index not found. Creating a new MSMARCO index for BM25 and RM3...\")\n",
    "    pt.index.IterDictIndexer(marco_index_src, blocks=True, meta={\"docno\": 20, \"text\": 131072}).index(msmarco.get_corpus_iter(), fields=[\"docno\", \"text\"])\n",
    "    print(\"Index successfully created!\")\n",
    "\n",
    "msmarco_index = pt.IndexFactory.of(marco_index_src)"
   ]
  },
  {
   "cell_type": "code",
   "execution_count": null,
   "id": "6223cbd4",
   "metadata": {},
   "outputs": [],
   "source": [
    "if dataset_name == \"irds:msmarco-passage/trec-dl-2019/judged\":\n",
    "    queries = pd.read_csv(os.path.abspath(\"trec2019judged-queries.tsv\"), sep='\\t', names=[\"qid\", \"query\"])\n",
    "else:\n",
    "    queries = msmarco.get_topics()\n",
    "\n",
    "print(f\"Checking Queries:\\n{queries}\")"
   ]
  },
  {
   "cell_type": "code",
   "execution_count": null,
   "id": "5dd9be23",
   "metadata": {},
   "outputs": [],
   "source": [
    "qrels = msmarco.get_qrels()\n",
    "\n",
    "print(f\"Checking Result Relevance:\\n{qrels.head()}\")"
   ]
  },
  {
   "cell_type": "code",
   "execution_count": 5,
   "id": "c5b2eadbd2bafd26",
   "metadata": {
    "ExecuteTime": {
     "end_time": "2025-03-19T23:05:54.455492Z",
     "start_time": "2025-03-19T23:05:54.444434Z"
    }
   },
   "outputs": [],
   "source": [
    "bm25 = pt.terrier.Retriever(msmarco_index, wmodel=\"BM25\", metadata=[\"docno\", \"text\"])\n",
    "rm3 = pt.rewrite.RM3(msmarco_index)"
   ]
  },
  {
   "cell_type": "code",
   "execution_count": null,
   "id": "f4b98e5f",
   "metadata": {},
   "outputs": [],
   "source": [
    "bm25(queries)"
   ]
  },
  {
   "cell_type": "code",
   "execution_count": null,
   "id": "2c9eb5c7",
   "metadata": {},
   "outputs": [],
   "source": [
    "rm3(bm25(queries))"
   ]
  },
  {
   "cell_type": "code",
   "execution_count": null,
   "id": "3196d214",
   "metadata": {},
   "outputs": [],
   "source": [
    "pt.Experiment(\n",
    "    [bm25, bm25 >> rm3 >> bm25],\n",
    "    queries,\n",
    "    qrels,\n",
    "    [MAP, nDCG @ 10, MRR @ 10],\n",
    "    [\"BM25\", \"BM25 >> RM3 >> BM25\"]\n",
    ")"
   ]
  }
 ],
 "metadata": {
  "kernelspec": {
   "display_name": "Python 3",
   "language": "python",
   "name": "python3"
  },
  "language_info": {
   "codemirror_mode": {
    "name": "ipython",
    "version": 3
   },
   "file_extension": ".py",
   "mimetype": "text/x-python",
   "name": "python",
   "nbconvert_exporter": "python",
   "pygments_lexer": "ipython3",
   "version": "3.11.3"
  }
 },
 "nbformat": 4,
 "nbformat_minor": 5
}
