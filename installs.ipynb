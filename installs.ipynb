{
 "cells": [
  {
   "cell_type": "code",
   "execution_count": null,
   "metadata": {
    "vscode": {
     "languageId": "shellscript"
    }
   },
   "outputs": [],
   "source": [
    "!pip install setuptools==58.2.0 packaging==23.2\n",
    "!pip install python-terrier==0.12.1\n",
    "!pip install pandas\n",
    "!pip install torch==2.6.0+cu118 torchvision torchaudio --index-url https://download.pytorch.org/whl/cu118\n",
    "!pip install --upgrade git+https://github.com/terrierteam/pyterrier_colbert.git\n",
    "!pip install --upgrade git+https://github.com/cmacdonald/pyterrier_bert.git\n",
    "!pip install faiss-cpu --no-cache-dir"
   ]
  },
  {
   "cell_type": "code",
   "execution_count": 1,
   "metadata": {},
   "outputs": [],
   "source": [
    "# For the ColBERT cells to work, replace the following file with the one from replacement-files/:\n",
    "# .venv/Lib/site-packages/pyterrier_colbert/indexing.py\n",
    "# Note: restarting VSCode is also necessary for the .venv to get updated properly\n",
    "\n",
    "# More details: The replacement-file has the compute_throughput() usages commented out\n",
    "# (the method was solely used in print-commands, so no core functionality is affected)\n",
    "# (it was throwing ZeroDivisionError via the subtracted timestamps in the denominator)"
   ]
  }
 ],
 "metadata": {
  "kernelspec": {
   "display_name": ".venv",
   "language": "python",
   "name": "python3"
  },
  "language_info": {
   "codemirror_mode": {
    "name": "ipython",
    "version": 3
   },
   "file_extension": ".py",
   "mimetype": "text/x-python",
   "name": "python",
   "nbconvert_exporter": "python",
   "pygments_lexer": "ipython3",
   "version": "3.11.3"
  }
 },
 "nbformat": 4,
 "nbformat_minor": 2
}
