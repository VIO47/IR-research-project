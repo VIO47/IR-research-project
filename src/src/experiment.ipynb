{
 "cells": [
  {
   "metadata": {
    "ExecuteTime": {
     "end_time": "2025-03-19T22:53:52.893549Z",
     "start_time": "2025-03-19T22:53:26.491679Z"
    }
   },
   "cell_type": "code",
   "source": [
    "!pip install setuptools==58.2.0 packaging==23.2\n",
    "!pip install python-terrier==0.12.1\n",
    "!pip install pandas\n",
    "!pip install torch==2.6.0+cu118 torchvision torchaudio --index-url https://download.pytorch.org/whl/cu118\n",
    "!pip install --upgrade git+https://github.com/terrierteam/pyterrier_colbert.git\n",
    "!pip install --upgrade git+https://github.com/cmacdonald/pyterrier_bert.git\n",
    "!pip install faiss-cpu --no-cache-dir\n"
   ],
   "id": "3a57c7322e776b59",
   "outputs": [
    {
     "name": "stdout",
     "output_type": "stream",
     "text": [
      "Requirement already satisfied: setuptools==58.2.0 in c:\\users\\vmmv1\\anaconda3\\envs\\ml4se_3.9\\lib\\site-packages (58.2.0)\n",
      "Collecting packaging==23.2\n",
      "  Using cached packaging-23.2-py3-none-any.whl.metadata (3.2 kB)\n",
      "Using cached packaging-23.2-py3-none-any.whl (53 kB)\n",
      "Installing collected packages: packaging\n",
      "  Attempting uninstall: packaging\n",
      "    Found existing installation: packaging 21.3\n",
      "    Uninstalling packaging-21.3:\n",
      "      Successfully uninstalled packaging-21.3\n",
      "Successfully installed packaging-23.2\n"
     ]
    },
    {
     "name": "stderr",
     "output_type": "stream",
     "text": [
      "ERROR: pip's dependency resolver does not currently take into account all the packages that are installed. This behaviour is the source of the following dependency conflicts.\n",
      "mlflow 1.30.1 requires packaging<22, but you have packaging 23.2 which is incompatible.\n"
     ]
    },
    {
     "name": "stdout",
     "output_type": "stream",
     "text": [
      "Requirement already satisfied: python-terrier==0.12.1 in c:\\users\\vmmv1\\anaconda3\\envs\\ml4se_3.9\\lib\\site-packages (0.12.1)\n",
      "Requirement already satisfied: numpy in c:\\users\\vmmv1\\anaconda3\\envs\\ml4se_3.9\\lib\\site-packages (from python-terrier==0.12.1) (1.26.4)\n",
      "Requirement already satisfied: pandas in c:\\users\\vmmv1\\anaconda3\\envs\\ml4se_3.9\\lib\\site-packages (from python-terrier==0.12.1) (1.5.3)\n",
      "Requirement already satisfied: more-itertools in c:\\users\\vmmv1\\anaconda3\\envs\\ml4se_3.9\\lib\\site-packages (from python-terrier==0.12.1) (10.6.0)\n",
      "Requirement already satisfied: tqdm in c:\\users\\vmmv1\\anaconda3\\envs\\ml4se_3.9\\lib\\site-packages (from python-terrier==0.12.1) (4.66.5)\n",
      "Requirement already satisfied: requests in c:\\users\\vmmv1\\anaconda3\\envs\\ml4se_3.9\\lib\\site-packages (from python-terrier==0.12.1) (2.32.3)\n",
      "Requirement already satisfied: ir-datasets>=0.3.2 in c:\\users\\vmmv1\\anaconda3\\envs\\ml4se_3.9\\lib\\site-packages (from python-terrier==0.12.1) (0.5.10)\n",
      "Requirement already satisfied: wget in c:\\users\\vmmv1\\anaconda3\\envs\\ml4se_3.9\\lib\\site-packages (from python-terrier==0.12.1) (3.2)\n",
      "Requirement already satisfied: pyjnius>=1.4.2 in c:\\users\\vmmv1\\anaconda3\\envs\\ml4se_3.9\\lib\\site-packages (from python-terrier==0.12.1) (1.6.1)\n",
      "Requirement already satisfied: deprecated in c:\\users\\vmmv1\\anaconda3\\envs\\ml4se_3.9\\lib\\site-packages (from python-terrier==0.12.1) (1.2.18)\n",
      "Requirement already satisfied: scipy in c:\\users\\vmmv1\\anaconda3\\envs\\ml4se_3.9\\lib\\site-packages (from python-terrier==0.12.1) (1.13.1)\n",
      "Requirement already satisfied: ir-measures>=0.3.1 in c:\\users\\vmmv1\\anaconda3\\envs\\ml4se_3.9\\lib\\site-packages (from python-terrier==0.12.1) (0.3.7)\n",
      "Requirement already satisfied: pytrec-eval-terrier>=0.5.3 in c:\\users\\vmmv1\\anaconda3\\envs\\ml4se_3.9\\lib\\site-packages (from python-terrier==0.12.1) (0.5.6)\n",
      "Requirement already satisfied: jinja2 in c:\\users\\vmmv1\\anaconda3\\envs\\ml4se_3.9\\lib\\site-packages (from python-terrier==0.12.1) (3.1.5)\n",
      "Requirement already satisfied: statsmodels in c:\\users\\vmmv1\\anaconda3\\envs\\ml4se_3.9\\lib\\site-packages (from python-terrier==0.12.1) (0.14.4)\n",
      "Requirement already satisfied: dill in c:\\users\\vmmv1\\anaconda3\\envs\\ml4se_3.9\\lib\\site-packages (from python-terrier==0.12.1) (0.3.8)\n",
      "Requirement already satisfied: joblib in c:\\users\\vmmv1\\anaconda3\\envs\\ml4se_3.9\\lib\\site-packages (from python-terrier==0.12.1) (1.4.2)\n",
      "Requirement already satisfied: chest in c:\\users\\vmmv1\\anaconda3\\envs\\ml4se_3.9\\lib\\site-packages (from python-terrier==0.12.1) (0.2.3)\n",
      "Requirement already satisfied: beautifulsoup4>=4.4.1 in c:\\users\\vmmv1\\anaconda3\\envs\\ml4se_3.9\\lib\\site-packages (from ir-datasets>=0.3.2->python-terrier==0.12.1) (4.12.3)\n",
      "Requirement already satisfied: inscriptis>=2.2.0 in c:\\users\\vmmv1\\anaconda3\\envs\\ml4se_3.9\\lib\\site-packages (from ir-datasets>=0.3.2->python-terrier==0.12.1) (2.5.3)\n",
      "Requirement already satisfied: lxml>=4.5.2 in c:\\users\\vmmv1\\anaconda3\\envs\\ml4se_3.9\\lib\\site-packages (from ir-datasets>=0.3.2->python-terrier==0.12.1) (5.3.1)\n",
      "Requirement already satisfied: pyyaml>=5.3.1 in c:\\users\\vmmv1\\anaconda3\\envs\\ml4se_3.9\\lib\\site-packages (from ir-datasets>=0.3.2->python-terrier==0.12.1) (6.0.2)\n",
      "Requirement already satisfied: trec-car-tools>=2.5.4 in c:\\users\\vmmv1\\anaconda3\\envs\\ml4se_3.9\\lib\\site-packages (from ir-datasets>=0.3.2->python-terrier==0.12.1) (2.6)\n",
      "Requirement already satisfied: lz4>=3.1.10 in c:\\users\\vmmv1\\anaconda3\\envs\\ml4se_3.9\\lib\\site-packages (from ir-datasets>=0.3.2->python-terrier==0.12.1) (4.4.3)\n",
      "Requirement already satisfied: warc3-wet>=0.2.3 in c:\\users\\vmmv1\\anaconda3\\envs\\ml4se_3.9\\lib\\site-packages (from ir-datasets>=0.3.2->python-terrier==0.12.1) (0.2.5)\n",
      "Requirement already satisfied: warc3-wet-clueweb09>=0.2.5 in c:\\users\\vmmv1\\anaconda3\\envs\\ml4se_3.9\\lib\\site-packages (from ir-datasets>=0.3.2->python-terrier==0.12.1) (0.2.5)\n",
      "Requirement already satisfied: zlib-state>=0.1.3 in c:\\users\\vmmv1\\anaconda3\\envs\\ml4se_3.9\\lib\\site-packages (from ir-datasets>=0.3.2->python-terrier==0.12.1) (0.1.9)\n",
      "Requirement already satisfied: ijson>=3.1.3 in c:\\users\\vmmv1\\anaconda3\\envs\\ml4se_3.9\\lib\\site-packages (from ir-datasets>=0.3.2->python-terrier==0.12.1) (3.3.0)\n",
      "Requirement already satisfied: unlzw3>=0.2.1 in c:\\users\\vmmv1\\anaconda3\\envs\\ml4se_3.9\\lib\\site-packages (from ir-datasets>=0.3.2->python-terrier==0.12.1) (0.2.3)\n",
      "Requirement already satisfied: pyarrow>=16.1.0 in c:\\users\\vmmv1\\anaconda3\\envs\\ml4se_3.9\\lib\\site-packages (from ir-datasets>=0.3.2->python-terrier==0.12.1) (17.0.0)\n",
      "Requirement already satisfied: charset-normalizer<4,>=2 in c:\\users\\vmmv1\\anaconda3\\envs\\ml4se_3.9\\lib\\site-packages (from requests->python-terrier==0.12.1) (3.3.2)\n",
      "Requirement already satisfied: idna<4,>=2.5 in c:\\users\\vmmv1\\anaconda3\\envs\\ml4se_3.9\\lib\\site-packages (from requests->python-terrier==0.12.1) (3.7)\n",
      "Requirement already satisfied: urllib3<3,>=1.21.1 in c:\\users\\vmmv1\\anaconda3\\envs\\ml4se_3.9\\lib\\site-packages (from requests->python-terrier==0.12.1) (2.2.3)\n",
      "Requirement already satisfied: certifi>=2017.4.17 in c:\\users\\vmmv1\\anaconda3\\envs\\ml4se_3.9\\lib\\site-packages (from requests->python-terrier==0.12.1) (2025.1.31)\n",
      "Requirement already satisfied: colorama in c:\\users\\vmmv1\\anaconda3\\envs\\ml4se_3.9\\lib\\site-packages (from tqdm->python-terrier==0.12.1) (0.4.6)\n",
      "Requirement already satisfied: heapdict in c:\\users\\vmmv1\\anaconda3\\envs\\ml4se_3.9\\lib\\site-packages (from chest->python-terrier==0.12.1) (1.0.1)\n",
      "Requirement already satisfied: wrapt<2,>=1.10 in c:\\users\\vmmv1\\anaconda3\\envs\\ml4se_3.9\\lib\\site-packages (from deprecated->python-terrier==0.12.1) (1.17.2)\n",
      "Requirement already satisfied: MarkupSafe>=2.0 in c:\\users\\vmmv1\\anaconda3\\envs\\ml4se_3.9\\lib\\site-packages (from jinja2->python-terrier==0.12.1) (3.0.2)\n",
      "Requirement already satisfied: python-dateutil>=2.8.1 in c:\\users\\vmmv1\\anaconda3\\envs\\ml4se_3.9\\lib\\site-packages (from pandas->python-terrier==0.12.1) (2.9.0.post0)\n",
      "Requirement already satisfied: pytz>=2020.1 in c:\\users\\vmmv1\\anaconda3\\envs\\ml4se_3.9\\lib\\site-packages (from pandas->python-terrier==0.12.1) (2022.7.1)\n",
      "Requirement already satisfied: patsy>=0.5.6 in c:\\users\\vmmv1\\anaconda3\\envs\\ml4se_3.9\\lib\\site-packages (from statsmodels->python-terrier==0.12.1) (1.0.1)\n",
      "Requirement already satisfied: packaging>=21.3 in c:\\users\\vmmv1\\anaconda3\\envs\\ml4se_3.9\\lib\\site-packages (from statsmodels->python-terrier==0.12.1) (23.2)\n",
      "Requirement already satisfied: soupsieve>1.2 in c:\\users\\vmmv1\\anaconda3\\envs\\ml4se_3.9\\lib\\site-packages (from beautifulsoup4>=4.4.1->ir-datasets>=0.3.2->python-terrier==0.12.1) (2.5)\n",
      "Requirement already satisfied: six>=1.5 in c:\\users\\vmmv1\\anaconda3\\envs\\ml4se_3.9\\lib\\site-packages (from python-dateutil>=2.8.1->pandas->python-terrier==0.12.1) (1.16.0)\n",
      "Requirement already satisfied: cbor>=1.0.0 in c:\\users\\vmmv1\\anaconda3\\envs\\ml4se_3.9\\lib\\site-packages (from trec-car-tools>=2.5.4->ir-datasets>=0.3.2->python-terrier==0.12.1) (1.0.0)\n",
      "Requirement already satisfied: pandas in c:\\users\\vmmv1\\anaconda3\\envs\\ml4se_3.9\\lib\\site-packages (1.5.3)\n",
      "Requirement already satisfied: python-dateutil>=2.8.1 in c:\\users\\vmmv1\\anaconda3\\envs\\ml4se_3.9\\lib\\site-packages (from pandas) (2.9.0.post0)\n",
      "Requirement already satisfied: pytz>=2020.1 in c:\\users\\vmmv1\\anaconda3\\envs\\ml4se_3.9\\lib\\site-packages (from pandas) (2022.7.1)\n",
      "Requirement already satisfied: numpy>=1.20.3 in c:\\users\\vmmv1\\anaconda3\\envs\\ml4se_3.9\\lib\\site-packages (from pandas) (1.26.4)\n",
      "Requirement already satisfied: six>=1.5 in c:\\users\\vmmv1\\anaconda3\\envs\\ml4se_3.9\\lib\\site-packages (from python-dateutil>=2.8.1->pandas) (1.16.0)\n",
      "Looking in indexes: https://download.pytorch.org/whl/cu118\n",
      "Requirement already satisfied: torch==2.6.0+cu118 in c:\\users\\vmmv1\\anaconda3\\envs\\ml4se_3.9\\lib\\site-packages (2.6.0+cu118)\n",
      "Requirement already satisfied: torchvision in c:\\users\\vmmv1\\anaconda3\\envs\\ml4se_3.9\\lib\\site-packages (0.21.0+cu118)\n",
      "Requirement already satisfied: torchaudio in c:\\users\\vmmv1\\anaconda3\\envs\\ml4se_3.9\\lib\\site-packages (2.6.0+cu118)\n",
      "Requirement already satisfied: filelock in c:\\users\\vmmv1\\anaconda3\\envs\\ml4se_3.9\\lib\\site-packages (from torch==2.6.0+cu118) (3.13.1)\n",
      "Requirement already satisfied: typing-extensions>=4.10.0 in c:\\users\\vmmv1\\anaconda3\\envs\\ml4se_3.9\\lib\\site-packages (from torch==2.6.0+cu118) (4.12.2)\n",
      "Requirement already satisfied: networkx in c:\\users\\vmmv1\\anaconda3\\envs\\ml4se_3.9\\lib\\site-packages (from torch==2.6.0+cu118) (3.2.1)\n",
      "Requirement already satisfied: jinja2 in c:\\users\\vmmv1\\anaconda3\\envs\\ml4se_3.9\\lib\\site-packages (from torch==2.6.0+cu118) (3.1.5)\n",
      "Requirement already satisfied: fsspec in c:\\users\\vmmv1\\anaconda3\\envs\\ml4se_3.9\\lib\\site-packages (from torch==2.6.0+cu118) (2024.3.1)\n",
      "Requirement already satisfied: sympy==1.13.1 in c:\\users\\vmmv1\\anaconda3\\envs\\ml4se_3.9\\lib\\site-packages (from torch==2.6.0+cu118) (1.13.1)\n",
      "Requirement already satisfied: mpmath<1.4,>=1.1.0 in c:\\users\\vmmv1\\anaconda3\\envs\\ml4se_3.9\\lib\\site-packages (from sympy==1.13.1->torch==2.6.0+cu118) (1.3.0)\n",
      "Requirement already satisfied: numpy in c:\\users\\vmmv1\\anaconda3\\envs\\ml4se_3.9\\lib\\site-packages (from torchvision) (1.26.4)\n",
      "Requirement already satisfied: pillow!=8.3.*,>=5.3.0 in c:\\users\\vmmv1\\anaconda3\\envs\\ml4se_3.9\\lib\\site-packages (from torchvision) (10.4.0)\n",
      "Requirement already satisfied: MarkupSafe>=2.0 in c:\\users\\vmmv1\\anaconda3\\envs\\ml4se_3.9\\lib\\site-packages (from jinja2->torch==2.6.0+cu118) (3.0.2)\n",
      "Collecting git+https://github.com/terrierteam/pyterrier_colbert.git\n",
      "  Cloning https://github.com/terrierteam/pyterrier_colbert.git to c:\\users\\vmmv1\\appdata\\local\\temp\\pip-req-build-0r1_deaz\n",
      "  Resolved https://github.com/terrierteam/pyterrier_colbert.git to commit ba5c86c0bc8da450dee361140541f35b5349a492\n",
      "  Preparing metadata (setup.py): started\n",
      "  Preparing metadata (setup.py): finished with status 'done'\n",
      "Collecting ColBERT@ git+https://github.com/cmacdonald/ColBERT.git@v0.2#egg=ColBERT (from pyterrier-colbert==0.0.1)\n",
      "  Cloning https://github.com/cmacdonald/ColBERT.git (to revision v0.2) to c:\\users\\vmmv1\\appdata\\local\\temp\\pip-install-2qnre8ib\\colbert_4b53f2425588431aa224e2d45af08f44\n",
      "  Resolved https://github.com/cmacdonald/ColBERT.git to commit ec191156d9c18f9f057103d3f2c9576c3eba2595\n",
      "  Preparing metadata (setup.py): started\n",
      "  Preparing metadata (setup.py): finished with status 'done'\n",
      "Requirement already satisfied: python-terrier>=0.9.1 in c:\\users\\vmmv1\\anaconda3\\envs\\ml4se_3.9\\lib\\site-packages (from pyterrier-colbert==0.0.1) (0.12.1)\n",
      "Requirement already satisfied: pandas in c:\\users\\vmmv1\\anaconda3\\envs\\ml4se_3.9\\lib\\site-packages (from pyterrier-colbert==0.0.1) (1.5.3)\n",
      "Requirement already satisfied: torch>=1.6.0 in c:\\users\\vmmv1\\anaconda3\\envs\\ml4se_3.9\\lib\\site-packages (from pyterrier-colbert==0.0.1) (2.6.0+cu118)\n",
      "Requirement already satisfied: scikit-learn in c:\\users\\vmmv1\\anaconda3\\envs\\ml4se_3.9\\lib\\site-packages (from pyterrier-colbert==0.0.1) (1.6.1)\n",
      "Requirement already satisfied: numpy in c:\\users\\vmmv1\\anaconda3\\envs\\ml4se_3.9\\lib\\site-packages (from python-terrier>=0.9.1->pyterrier-colbert==0.0.1) (1.26.4)\n",
      "Requirement already satisfied: more-itertools in c:\\users\\vmmv1\\anaconda3\\envs\\ml4se_3.9\\lib\\site-packages (from python-terrier>=0.9.1->pyterrier-colbert==0.0.1) (10.6.0)\n",
      "Requirement already satisfied: tqdm in c:\\users\\vmmv1\\anaconda3\\envs\\ml4se_3.9\\lib\\site-packages (from python-terrier>=0.9.1->pyterrier-colbert==0.0.1) (4.66.5)\n",
      "Requirement already satisfied: requests in c:\\users\\vmmv1\\anaconda3\\envs\\ml4se_3.9\\lib\\site-packages (from python-terrier>=0.9.1->pyterrier-colbert==0.0.1) (2.32.3)\n",
      "Requirement already satisfied: ir-datasets>=0.3.2 in c:\\users\\vmmv1\\anaconda3\\envs\\ml4se_3.9\\lib\\site-packages (from python-terrier>=0.9.1->pyterrier-colbert==0.0.1) (0.5.10)\n",
      "Requirement already satisfied: wget in c:\\users\\vmmv1\\anaconda3\\envs\\ml4se_3.9\\lib\\site-packages (from python-terrier>=0.9.1->pyterrier-colbert==0.0.1) (3.2)\n",
      "Requirement already satisfied: pyjnius>=1.4.2 in c:\\users\\vmmv1\\anaconda3\\envs\\ml4se_3.9\\lib\\site-packages (from python-terrier>=0.9.1->pyterrier-colbert==0.0.1) (1.6.1)\n",
      "Requirement already satisfied: deprecated in c:\\users\\vmmv1\\anaconda3\\envs\\ml4se_3.9\\lib\\site-packages (from python-terrier>=0.9.1->pyterrier-colbert==0.0.1) (1.2.18)\n",
      "Requirement already satisfied: scipy in c:\\users\\vmmv1\\anaconda3\\envs\\ml4se_3.9\\lib\\site-packages (from python-terrier>=0.9.1->pyterrier-colbert==0.0.1) (1.13.1)\n",
      "Requirement already satisfied: ir-measures>=0.3.1 in c:\\users\\vmmv1\\anaconda3\\envs\\ml4se_3.9\\lib\\site-packages (from python-terrier>=0.9.1->pyterrier-colbert==0.0.1) (0.3.7)\n",
      "Requirement already satisfied: pytrec-eval-terrier>=0.5.3 in c:\\users\\vmmv1\\anaconda3\\envs\\ml4se_3.9\\lib\\site-packages (from python-terrier>=0.9.1->pyterrier-colbert==0.0.1) (0.5.6)\n",
      "Requirement already satisfied: jinja2 in c:\\users\\vmmv1\\anaconda3\\envs\\ml4se_3.9\\lib\\site-packages (from python-terrier>=0.9.1->pyterrier-colbert==0.0.1) (3.1.5)\n",
      "Requirement already satisfied: statsmodels in c:\\users\\vmmv1\\anaconda3\\envs\\ml4se_3.9\\lib\\site-packages (from python-terrier>=0.9.1->pyterrier-colbert==0.0.1) (0.14.4)\n",
      "Requirement already satisfied: dill in c:\\users\\vmmv1\\anaconda3\\envs\\ml4se_3.9\\lib\\site-packages (from python-terrier>=0.9.1->pyterrier-colbert==0.0.1) (0.3.8)\n",
      "Requirement already satisfied: joblib in c:\\users\\vmmv1\\anaconda3\\envs\\ml4se_3.9\\lib\\site-packages (from python-terrier>=0.9.1->pyterrier-colbert==0.0.1) (1.4.2)\n",
      "Requirement already satisfied: chest in c:\\users\\vmmv1\\anaconda3\\envs\\ml4se_3.9\\lib\\site-packages (from python-terrier>=0.9.1->pyterrier-colbert==0.0.1) (0.2.3)\n",
      "Requirement already satisfied: filelock in c:\\users\\vmmv1\\anaconda3\\envs\\ml4se_3.9\\lib\\site-packages (from torch>=1.6.0->pyterrier-colbert==0.0.1) (3.13.1)\n",
      "Requirement already satisfied: typing-extensions>=4.10.0 in c:\\users\\vmmv1\\anaconda3\\envs\\ml4se_3.9\\lib\\site-packages (from torch>=1.6.0->pyterrier-colbert==0.0.1) (4.12.2)\n",
      "Requirement already satisfied: networkx in c:\\users\\vmmv1\\anaconda3\\envs\\ml4se_3.9\\lib\\site-packages (from torch>=1.6.0->pyterrier-colbert==0.0.1) (3.2.1)\n",
      "Requirement already satisfied: fsspec in c:\\users\\vmmv1\\anaconda3\\envs\\ml4se_3.9\\lib\\site-packages (from torch>=1.6.0->pyterrier-colbert==0.0.1) (2024.3.1)\n",
      "Requirement already satisfied: sympy==1.13.1 in c:\\users\\vmmv1\\anaconda3\\envs\\ml4se_3.9\\lib\\site-packages (from torch>=1.6.0->pyterrier-colbert==0.0.1) (1.13.1)\n",
      "Requirement already satisfied: mpmath<1.4,>=1.1.0 in c:\\users\\vmmv1\\anaconda3\\envs\\ml4se_3.9\\lib\\site-packages (from sympy==1.13.1->torch>=1.6.0->pyterrier-colbert==0.0.1) (1.3.0)\n",
      "Requirement already satisfied: transformers<5,>=3.0.2 in c:\\users\\vmmv1\\anaconda3\\envs\\ml4se_3.9\\lib\\site-packages (from ColBERT@ git+https://github.com/cmacdonald/ColBERT.git@v0.2#egg=ColBERT->pyterrier-colbert==0.0.1) (4.45.2)\n",
      "Requirement already satisfied: ujson in c:\\users\\vmmv1\\anaconda3\\envs\\ml4se_3.9\\lib\\site-packages (from ColBERT@ git+https://github.com/cmacdonald/ColBERT.git@v0.2#egg=ColBERT->pyterrier-colbert==0.0.1) (5.10.0)\n",
      "Requirement already satisfied: mlflow<=2.5 in c:\\users\\vmmv1\\anaconda3\\envs\\ml4se_3.9\\lib\\site-packages (from ColBERT@ git+https://github.com/cmacdonald/ColBERT.git@v0.2#egg=ColBERT->pyterrier-colbert==0.0.1) (1.30.1)\n",
      "Requirement already satisfied: tensorboard in c:\\users\\vmmv1\\anaconda3\\envs\\ml4se_3.9\\lib\\site-packages (from ColBERT@ git+https://github.com/cmacdonald/ColBERT.git@v0.2#egg=ColBERT->pyterrier-colbert==0.0.1) (2.19.0)\n",
      "Requirement already satisfied: python-dateutil>=2.8.1 in c:\\users\\vmmv1\\anaconda3\\envs\\ml4se_3.9\\lib\\site-packages (from pandas->pyterrier-colbert==0.0.1) (2.9.0.post0)\n",
      "Requirement already satisfied: pytz>=2020.1 in c:\\users\\vmmv1\\anaconda3\\envs\\ml4se_3.9\\lib\\site-packages (from pandas->pyterrier-colbert==0.0.1) (2022.7.1)\n",
      "Requirement already satisfied: threadpoolctl>=3.1.0 in c:\\users\\vmmv1\\anaconda3\\envs\\ml4se_3.9\\lib\\site-packages (from scikit-learn->pyterrier-colbert==0.0.1) (3.5.0)\n",
      "Requirement already satisfied: beautifulsoup4>=4.4.1 in c:\\users\\vmmv1\\anaconda3\\envs\\ml4se_3.9\\lib\\site-packages (from ir-datasets>=0.3.2->python-terrier>=0.9.1->pyterrier-colbert==0.0.1) (4.12.3)\n",
      "Requirement already satisfied: inscriptis>=2.2.0 in c:\\users\\vmmv1\\anaconda3\\envs\\ml4se_3.9\\lib\\site-packages (from ir-datasets>=0.3.2->python-terrier>=0.9.1->pyterrier-colbert==0.0.1) (2.5.3)\n",
      "Requirement already satisfied: lxml>=4.5.2 in c:\\users\\vmmv1\\anaconda3\\envs\\ml4se_3.9\\lib\\site-packages (from ir-datasets>=0.3.2->python-terrier>=0.9.1->pyterrier-colbert==0.0.1) (5.3.1)\n",
      "Requirement already satisfied: pyyaml>=5.3.1 in c:\\users\\vmmv1\\anaconda3\\envs\\ml4se_3.9\\lib\\site-packages (from ir-datasets>=0.3.2->python-terrier>=0.9.1->pyterrier-colbert==0.0.1) (6.0.2)\n",
      "Requirement already satisfied: trec-car-tools>=2.5.4 in c:\\users\\vmmv1\\anaconda3\\envs\\ml4se_3.9\\lib\\site-packages (from ir-datasets>=0.3.2->python-terrier>=0.9.1->pyterrier-colbert==0.0.1) (2.6)\n",
      "Requirement already satisfied: lz4>=3.1.10 in c:\\users\\vmmv1\\anaconda3\\envs\\ml4se_3.9\\lib\\site-packages (from ir-datasets>=0.3.2->python-terrier>=0.9.1->pyterrier-colbert==0.0.1) (4.4.3)\n",
      "Requirement already satisfied: warc3-wet>=0.2.3 in c:\\users\\vmmv1\\anaconda3\\envs\\ml4se_3.9\\lib\\site-packages (from ir-datasets>=0.3.2->python-terrier>=0.9.1->pyterrier-colbert==0.0.1) (0.2.5)\n",
      "Requirement already satisfied: warc3-wet-clueweb09>=0.2.5 in c:\\users\\vmmv1\\anaconda3\\envs\\ml4se_3.9\\lib\\site-packages (from ir-datasets>=0.3.2->python-terrier>=0.9.1->pyterrier-colbert==0.0.1) (0.2.5)\n",
      "Requirement already satisfied: zlib-state>=0.1.3 in c:\\users\\vmmv1\\anaconda3\\envs\\ml4se_3.9\\lib\\site-packages (from ir-datasets>=0.3.2->python-terrier>=0.9.1->pyterrier-colbert==0.0.1) (0.1.9)\n",
      "Requirement already satisfied: ijson>=3.1.3 in c:\\users\\vmmv1\\anaconda3\\envs\\ml4se_3.9\\lib\\site-packages (from ir-datasets>=0.3.2->python-terrier>=0.9.1->pyterrier-colbert==0.0.1) (3.3.0)\n",
      "Requirement already satisfied: unlzw3>=0.2.1 in c:\\users\\vmmv1\\anaconda3\\envs\\ml4se_3.9\\lib\\site-packages (from ir-datasets>=0.3.2->python-terrier>=0.9.1->pyterrier-colbert==0.0.1) (0.2.3)\n",
      "Requirement already satisfied: pyarrow>=16.1.0 in c:\\users\\vmmv1\\anaconda3\\envs\\ml4se_3.9\\lib\\site-packages (from ir-datasets>=0.3.2->python-terrier>=0.9.1->pyterrier-colbert==0.0.1) (17.0.0)\n",
      "Requirement already satisfied: click<9,>=7.0 in c:\\users\\vmmv1\\anaconda3\\envs\\ml4se_3.9\\lib\\site-packages (from mlflow<=2.5->ColBERT@ git+https://github.com/cmacdonald/ColBERT.git@v0.2#egg=ColBERT->pyterrier-colbert==0.0.1) (8.1.7)\n",
      "Requirement already satisfied: cloudpickle<3 in c:\\users\\vmmv1\\anaconda3\\envs\\ml4se_3.9\\lib\\site-packages (from mlflow<=2.5->ColBERT@ git+https://github.com/cmacdonald/ColBERT.git@v0.2#egg=ColBERT->pyterrier-colbert==0.0.1) (2.2.1)\n",
      "Requirement already satisfied: databricks-cli<1,>=0.8.7 in c:\\users\\vmmv1\\anaconda3\\envs\\ml4se_3.9\\lib\\site-packages (from mlflow<=2.5->ColBERT@ git+https://github.com/cmacdonald/ColBERT.git@v0.2#egg=ColBERT->pyterrier-colbert==0.0.1) (0.18.0)\n",
      "Requirement already satisfied: entrypoints<1 in c:\\users\\vmmv1\\anaconda3\\envs\\ml4se_3.9\\lib\\site-packages (from mlflow<=2.5->ColBERT@ git+https://github.com/cmacdonald/ColBERT.git@v0.2#egg=ColBERT->pyterrier-colbert==0.0.1) (0.4)\n",
      "Requirement already satisfied: gitpython<4,>=2.1.0 in c:\\users\\vmmv1\\anaconda3\\envs\\ml4se_3.9\\lib\\site-packages (from mlflow<=2.5->ColBERT@ git+https://github.com/cmacdonald/ColBERT.git@v0.2#egg=ColBERT->pyterrier-colbert==0.0.1) (3.1.43)\n",
      "Requirement already satisfied: protobuf<5,>=3.12.0 in c:\\users\\vmmv1\\anaconda3\\envs\\ml4se_3.9\\lib\\site-packages (from mlflow<=2.5->ColBERT@ git+https://github.com/cmacdonald/ColBERT.git@v0.2#egg=ColBERT->pyterrier-colbert==0.0.1) (4.25.6)\n",
      "Collecting packaging<22 (from mlflow<=2.5->ColBERT@ git+https://github.com/cmacdonald/ColBERT.git@v0.2#egg=ColBERT->pyterrier-colbert==0.0.1)\n",
      "  Using cached packaging-21.3-py3-none-any.whl.metadata (15 kB)\n",
      "Requirement already satisfied: importlib-metadata!=4.7.0,<6,>=3.7.0 in c:\\users\\vmmv1\\anaconda3\\envs\\ml4se_3.9\\lib\\site-packages (from mlflow<=2.5->ColBERT@ git+https://github.com/cmacdonald/ColBERT.git@v0.2#egg=ColBERT->pyterrier-colbert==0.0.1) (5.2.0)\n",
      "Requirement already satisfied: sqlparse<1,>=0.4.0 in c:\\users\\vmmv1\\anaconda3\\envs\\ml4se_3.9\\lib\\site-packages (from mlflow<=2.5->ColBERT@ git+https://github.com/cmacdonald/ColBERT.git@v0.2#egg=ColBERT->pyterrier-colbert==0.0.1) (0.5.3)\n",
      "Requirement already satisfied: alembic<2 in c:\\users\\vmmv1\\anaconda3\\envs\\ml4se_3.9\\lib\\site-packages (from mlflow<=2.5->ColBERT@ git+https://github.com/cmacdonald/ColBERT.git@v0.2#egg=ColBERT->pyterrier-colbert==0.0.1) (1.15.1)\n",
      "Requirement already satisfied: docker<7,>=4.0.0 in c:\\users\\vmmv1\\anaconda3\\envs\\ml4se_3.9\\lib\\site-packages (from mlflow<=2.5->ColBERT@ git+https://github.com/cmacdonald/ColBERT.git@v0.2#egg=ColBERT->pyterrier-colbert==0.0.1) (6.1.3)\n",
      "Requirement already satisfied: Flask<3 in c:\\users\\vmmv1\\anaconda3\\envs\\ml4se_3.9\\lib\\site-packages (from mlflow<=2.5->ColBERT@ git+https://github.com/cmacdonald/ColBERT.git@v0.2#egg=ColBERT->pyterrier-colbert==0.0.1) (2.3.3)\n",
      "Requirement already satisfied: prometheus-flask-exporter<1 in c:\\users\\vmmv1\\anaconda3\\envs\\ml4se_3.9\\lib\\site-packages (from mlflow<=2.5->ColBERT@ git+https://github.com/cmacdonald/ColBERT.git@v0.2#egg=ColBERT->pyterrier-colbert==0.0.1) (0.23.2)\n",
      "Requirement already satisfied: querystring-parser<2 in c:\\users\\vmmv1\\anaconda3\\envs\\ml4se_3.9\\lib\\site-packages (from mlflow<=2.5->ColBERT@ git+https://github.com/cmacdonald/ColBERT.git@v0.2#egg=ColBERT->pyterrier-colbert==0.0.1) (1.2.4)\n",
      "Requirement already satisfied: sqlalchemy<2,>=1.4.0 in c:\\users\\vmmv1\\anaconda3\\envs\\ml4se_3.9\\lib\\site-packages (from mlflow<=2.5->ColBERT@ git+https://github.com/cmacdonald/ColBERT.git@v0.2#egg=ColBERT->pyterrier-colbert==0.0.1) (1.4.54)\n",
      "Requirement already satisfied: waitress<3 in c:\\users\\vmmv1\\anaconda3\\envs\\ml4se_3.9\\lib\\site-packages (from mlflow<=2.5->ColBERT@ git+https://github.com/cmacdonald/ColBERT.git@v0.2#egg=ColBERT->pyterrier-colbert==0.0.1) (2.1.2)\n",
      "Requirement already satisfied: six>=1.5 in c:\\users\\vmmv1\\anaconda3\\envs\\ml4se_3.9\\lib\\site-packages (from python-dateutil>=2.8.1->pandas->pyterrier-colbert==0.0.1) (1.16.0)\n",
      "Requirement already satisfied: charset-normalizer<4,>=2 in c:\\users\\vmmv1\\anaconda3\\envs\\ml4se_3.9\\lib\\site-packages (from requests->python-terrier>=0.9.1->pyterrier-colbert==0.0.1) (3.3.2)\n",
      "Requirement already satisfied: idna<4,>=2.5 in c:\\users\\vmmv1\\anaconda3\\envs\\ml4se_3.9\\lib\\site-packages (from requests->python-terrier>=0.9.1->pyterrier-colbert==0.0.1) (3.7)\n",
      "Requirement already satisfied: urllib3<3,>=1.21.1 in c:\\users\\vmmv1\\anaconda3\\envs\\ml4se_3.9\\lib\\site-packages (from requests->python-terrier>=0.9.1->pyterrier-colbert==0.0.1) (2.2.3)\n",
      "Requirement already satisfied: certifi>=2017.4.17 in c:\\users\\vmmv1\\anaconda3\\envs\\ml4se_3.9\\lib\\site-packages (from requests->python-terrier>=0.9.1->pyterrier-colbert==0.0.1) (2025.1.31)\n",
      "Requirement already satisfied: colorama in c:\\users\\vmmv1\\anaconda3\\envs\\ml4se_3.9\\lib\\site-packages (from tqdm->python-terrier>=0.9.1->pyterrier-colbert==0.0.1) (0.4.6)\n",
      "Requirement already satisfied: huggingface-hub<1.0,>=0.23.2 in c:\\users\\vmmv1\\anaconda3\\envs\\ml4se_3.9\\lib\\site-packages (from transformers<5,>=3.0.2->ColBERT@ git+https://github.com/cmacdonald/ColBERT.git@v0.2#egg=ColBERT->pyterrier-colbert==0.0.1) (0.24.6)\n",
      "Requirement already satisfied: regex!=2019.12.17 in c:\\users\\vmmv1\\anaconda3\\envs\\ml4se_3.9\\lib\\site-packages (from transformers<5,>=3.0.2->ColBERT@ git+https://github.com/cmacdonald/ColBERT.git@v0.2#egg=ColBERT->pyterrier-colbert==0.0.1) (2024.9.11)\n",
      "Requirement already satisfied: tokenizers<0.21,>=0.20 in c:\\users\\vmmv1\\anaconda3\\envs\\ml4se_3.9\\lib\\site-packages (from transformers<5,>=3.0.2->ColBERT@ git+https://github.com/cmacdonald/ColBERT.git@v0.2#egg=ColBERT->pyterrier-colbert==0.0.1) (0.20.1)\n",
      "Requirement already satisfied: safetensors>=0.4.1 in c:\\users\\vmmv1\\anaconda3\\envs\\ml4se_3.9\\lib\\site-packages (from transformers<5,>=3.0.2->ColBERT@ git+https://github.com/cmacdonald/ColBERT.git@v0.2#egg=ColBERT->pyterrier-colbert==0.0.1) (0.4.5)\n",
      "Requirement already satisfied: heapdict in c:\\users\\vmmv1\\anaconda3\\envs\\ml4se_3.9\\lib\\site-packages (from chest->python-terrier>=0.9.1->pyterrier-colbert==0.0.1) (1.0.1)\n",
      "Requirement already satisfied: wrapt<2,>=1.10 in c:\\users\\vmmv1\\anaconda3\\envs\\ml4se_3.9\\lib\\site-packages (from deprecated->python-terrier>=0.9.1->pyterrier-colbert==0.0.1) (1.17.2)\n",
      "Requirement already satisfied: MarkupSafe>=2.0 in c:\\users\\vmmv1\\anaconda3\\envs\\ml4se_3.9\\lib\\site-packages (from jinja2->python-terrier>=0.9.1->pyterrier-colbert==0.0.1) (3.0.2)\n",
      "Requirement already satisfied: patsy>=0.5.6 in c:\\users\\vmmv1\\anaconda3\\envs\\ml4se_3.9\\lib\\site-packages (from statsmodels->python-terrier>=0.9.1->pyterrier-colbert==0.0.1) (1.0.1)\n",
      "Requirement already satisfied: absl-py>=0.4 in c:\\users\\vmmv1\\anaconda3\\envs\\ml4se_3.9\\lib\\site-packages (from tensorboard->ColBERT@ git+https://github.com/cmacdonald/ColBERT.git@v0.2#egg=ColBERT->pyterrier-colbert==0.0.1) (2.1.0)\n",
      "Requirement already satisfied: grpcio>=1.48.2 in c:\\users\\vmmv1\\anaconda3\\envs\\ml4se_3.9\\lib\\site-packages (from tensorboard->ColBERT@ git+https://github.com/cmacdonald/ColBERT.git@v0.2#egg=ColBERT->pyterrier-colbert==0.0.1) (1.71.0)\n",
      "Requirement already satisfied: markdown>=2.6.8 in c:\\users\\vmmv1\\anaconda3\\envs\\ml4se_3.9\\lib\\site-packages (from tensorboard->ColBERT@ git+https://github.com/cmacdonald/ColBERT.git@v0.2#egg=ColBERT->pyterrier-colbert==0.0.1) (3.7)\n",
      "Requirement already satisfied: setuptools>=41.0.0 in c:\\users\\vmmv1\\anaconda3\\envs\\ml4se_3.9\\lib\\site-packages (from tensorboard->ColBERT@ git+https://github.com/cmacdonald/ColBERT.git@v0.2#egg=ColBERT->pyterrier-colbert==0.0.1) (58.2.0)\n",
      "Requirement already satisfied: tensorboard-data-server<0.8.0,>=0.7.0 in c:\\users\\vmmv1\\anaconda3\\envs\\ml4se_3.9\\lib\\site-packages (from tensorboard->ColBERT@ git+https://github.com/cmacdonald/ColBERT.git@v0.2#egg=ColBERT->pyterrier-colbert==0.0.1) (0.7.2)\n",
      "Requirement already satisfied: werkzeug>=1.0.1 in c:\\users\\vmmv1\\anaconda3\\envs\\ml4se_3.9\\lib\\site-packages (from tensorboard->ColBERT@ git+https://github.com/cmacdonald/ColBERT.git@v0.2#egg=ColBERT->pyterrier-colbert==0.0.1) (3.1.3)\n",
      "Requirement already satisfied: Mako in c:\\users\\vmmv1\\anaconda3\\envs\\ml4se_3.9\\lib\\site-packages (from alembic<2->mlflow<=2.5->ColBERT@ git+https://github.com/cmacdonald/ColBERT.git@v0.2#egg=ColBERT->pyterrier-colbert==0.0.1) (1.3.9)\n",
      "Requirement already satisfied: soupsieve>1.2 in c:\\users\\vmmv1\\anaconda3\\envs\\ml4se_3.9\\lib\\site-packages (from beautifulsoup4>=4.4.1->ir-datasets>=0.3.2->python-terrier>=0.9.1->pyterrier-colbert==0.0.1) (2.5)\n",
      "Requirement already satisfied: pyjwt>=1.7.0 in c:\\users\\vmmv1\\anaconda3\\envs\\ml4se_3.9\\lib\\site-packages (from databricks-cli<1,>=0.8.7->mlflow<=2.5->ColBERT@ git+https://github.com/cmacdonald/ColBERT.git@v0.2#egg=ColBERT->pyterrier-colbert==0.0.1) (2.10.1)\n",
      "Requirement already satisfied: oauthlib>=3.1.0 in c:\\users\\vmmv1\\anaconda3\\envs\\ml4se_3.9\\lib\\site-packages (from databricks-cli<1,>=0.8.7->mlflow<=2.5->ColBERT@ git+https://github.com/cmacdonald/ColBERT.git@v0.2#egg=ColBERT->pyterrier-colbert==0.0.1) (3.2.2)\n",
      "Requirement already satisfied: tabulate>=0.7.7 in c:\\users\\vmmv1\\anaconda3\\envs\\ml4se_3.9\\lib\\site-packages (from databricks-cli<1,>=0.8.7->mlflow<=2.5->ColBERT@ git+https://github.com/cmacdonald/ColBERT.git@v0.2#egg=ColBERT->pyterrier-colbert==0.0.1) (0.9.0)\n",
      "Requirement already satisfied: websocket-client>=0.32.0 in c:\\users\\vmmv1\\anaconda3\\envs\\ml4se_3.9\\lib\\site-packages (from docker<7,>=4.0.0->mlflow<=2.5->ColBERT@ git+https://github.com/cmacdonald/ColBERT.git@v0.2#egg=ColBERT->pyterrier-colbert==0.0.1) (1.8.0)\n",
      "Requirement already satisfied: pywin32>=304 in c:\\users\\vmmv1\\anaconda3\\envs\\ml4se_3.9\\lib\\site-packages (from docker<7,>=4.0.0->mlflow<=2.5->ColBERT@ git+https://github.com/cmacdonald/ColBERT.git@v0.2#egg=ColBERT->pyterrier-colbert==0.0.1) (308)\n",
      "Requirement already satisfied: itsdangerous>=2.1.2 in c:\\users\\vmmv1\\anaconda3\\envs\\ml4se_3.9\\lib\\site-packages (from Flask<3->mlflow<=2.5->ColBERT@ git+https://github.com/cmacdonald/ColBERT.git@v0.2#egg=ColBERT->pyterrier-colbert==0.0.1) (2.2.0)\n",
      "Requirement already satisfied: blinker>=1.6.2 in c:\\users\\vmmv1\\anaconda3\\envs\\ml4se_3.9\\lib\\site-packages (from Flask<3->mlflow<=2.5->ColBERT@ git+https://github.com/cmacdonald/ColBERT.git@v0.2#egg=ColBERT->pyterrier-colbert==0.0.1) (1.9.0)\n",
      "Requirement already satisfied: gitdb<5,>=4.0.1 in c:\\users\\vmmv1\\anaconda3\\envs\\ml4se_3.9\\lib\\site-packages (from gitpython<4,>=2.1.0->mlflow<=2.5->ColBERT@ git+https://github.com/cmacdonald/ColBERT.git@v0.2#egg=ColBERT->pyterrier-colbert==0.0.1) (4.0.11)\n",
      "Requirement already satisfied: zipp>=0.5 in c:\\users\\vmmv1\\anaconda3\\envs\\ml4se_3.9\\lib\\site-packages (from importlib-metadata!=4.7.0,<6,>=3.7.0->mlflow<=2.5->ColBERT@ git+https://github.com/cmacdonald/ColBERT.git@v0.2#egg=ColBERT->pyterrier-colbert==0.0.1) (3.21.0)\n",
      "Requirement already satisfied: pyparsing!=3.0.5,>=2.0.2 in c:\\users\\vmmv1\\anaconda3\\envs\\ml4se_3.9\\lib\\site-packages (from packaging<22->mlflow<=2.5->ColBERT@ git+https://github.com/cmacdonald/ColBERT.git@v0.2#egg=ColBERT->pyterrier-colbert==0.0.1) (3.2.1)\n",
      "Requirement already satisfied: prometheus_client in c:\\users\\vmmv1\\anaconda3\\envs\\ml4se_3.9\\lib\\site-packages (from prometheus-flask-exporter<1->mlflow<=2.5->ColBERT@ git+https://github.com/cmacdonald/ColBERT.git@v0.2#egg=ColBERT->pyterrier-colbert==0.0.1) (0.21.0)\n",
      "Requirement already satisfied: greenlet!=0.4.17 in c:\\users\\vmmv1\\anaconda3\\envs\\ml4se_3.9\\lib\\site-packages (from sqlalchemy<2,>=1.4.0->mlflow<=2.5->ColBERT@ git+https://github.com/cmacdonald/ColBERT.git@v0.2#egg=ColBERT->pyterrier-colbert==0.0.1) (3.1.1)\n",
      "Requirement already satisfied: cbor>=1.0.0 in c:\\users\\vmmv1\\anaconda3\\envs\\ml4se_3.9\\lib\\site-packages (from trec-car-tools>=2.5.4->ir-datasets>=0.3.2->python-terrier>=0.9.1->pyterrier-colbert==0.0.1) (1.0.0)\n",
      "Requirement already satisfied: smmap<6,>=3.0.1 in c:\\users\\vmmv1\\anaconda3\\envs\\ml4se_3.9\\lib\\site-packages (from gitdb<5,>=4.0.1->gitpython<4,>=2.1.0->mlflow<=2.5->ColBERT@ git+https://github.com/cmacdonald/ColBERT.git@v0.2#egg=ColBERT->pyterrier-colbert==0.0.1) (5.0.1)\n",
      "Using cached packaging-21.3-py3-none-any.whl (40 kB)\n",
      "Installing collected packages: packaging\n",
      "  Attempting uninstall: packaging\n",
      "    Found existing installation: packaging 23.2\n",
      "    Uninstalling packaging-23.2:\n",
      "      Successfully uninstalled packaging-23.2\n",
      "Successfully installed packaging-21.3\n"
     ]
    },
    {
     "name": "stderr",
     "output_type": "stream",
     "text": [
      "  Running command git clone --filter=blob:none --quiet https://github.com/terrierteam/pyterrier_colbert.git 'C:\\Users\\vmmv1\\AppData\\Local\\Temp\\pip-req-build-0r1_deaz'\n",
      "  Running command git clone --filter=blob:none --quiet https://github.com/cmacdonald/ColBERT.git 'C:\\Users\\vmmv1\\AppData\\Local\\Temp\\pip-install-2qnre8ib\\colbert_4b53f2425588431aa224e2d45af08f44'\n",
      "  Running command git checkout -b v0.2 --track origin/v0.2\n",
      "  branch 'v0.2' set up to track 'origin/v0.2'.\n",
      "  Switched to a new branch 'v0.2'\n",
      "ERROR: pip's dependency resolver does not currently take into account all the packages that are installed. This behaviour is the source of the following dependency conflicts.\n",
      "jupyter-server 2.15.0 requires packaging>=22.0, but you have packaging 21.3 which is incompatible.\n",
      "langchain-core 0.3.28 requires packaging<25,>=23.2, but you have packaging 21.3 which is incompatible.\n"
     ]
    },
    {
     "name": "stdout",
     "output_type": "stream",
     "text": [
      "Collecting git+https://github.com/cmacdonald/pyterrier_bert.git\n",
      "  Cloning https://github.com/cmacdonald/pyterrier_bert.git to c:\\users\\vmmv1\\appdata\\local\\temp\\pip-req-build-ufjxs50e\n",
      "  Resolved https://github.com/cmacdonald/pyterrier_bert.git to commit d75e1d376e8183148587fa584fedb414906e4861\n",
      "  Preparing metadata (setup.py): started\n",
      "  Preparing metadata (setup.py): finished with status 'done'\n",
      "Collecting cedr@ git+https://github.com/Georgetown-IR-Lab/cedr.git (from PyTerrierBERT==0.0.1)\n",
      "  Cloning https://github.com/Georgetown-IR-Lab/cedr.git to c:\\users\\vmmv1\\appdata\\local\\temp\\pip-install-_qfx8ja5\\cedr_7fd5f87f28ad466cb2243be22f4606ab\n",
      "  Resolved https://github.com/Georgetown-IR-Lab/cedr.git to commit a263f1e00b4b4dcfdc1aa1519793224138be44fc\n",
      "  Preparing metadata (setup.py): started\n",
      "  Preparing metadata (setup.py): finished with status 'done'\n",
      "Collecting python-terrier@ git+https://github.com/terrier-org/pyterrier.git#egg=python-terrier (from PyTerrierBERT==0.0.1)\n",
      "  Cloning https://github.com/terrier-org/pyterrier.git to c:\\users\\vmmv1\\appdata\\local\\temp\\pip-install-_qfx8ja5\\python-terrier_0d376cafd6f24a16aa89722f1028dbdc\n",
      "  Resolved https://github.com/terrier-org/pyterrier.git to commit 1678e4b69c47fe43083c50f639151d2664dcbcbe\n",
      "  Installing build dependencies: started\n",
      "  Installing build dependencies: finished with status 'done'\n",
      "  Getting requirements to build wheel: started\n",
      "  Getting requirements to build wheel: finished with status 'done'\n",
      "  Preparing metadata (pyproject.toml): started\n",
      "  Preparing metadata (pyproject.toml): finished with status 'done'\n",
      "Requirement already satisfied: transformers in c:\\users\\vmmv1\\anaconda3\\envs\\ml4se_3.9\\lib\\site-packages (from PyTerrierBERT==0.0.1) (4.45.2)\n",
      "INFO: pip is looking at multiple versions of pyterrierbert to determine which version is compatible with other requirements. This could take a while.\n"
     ]
    },
    {
     "name": "stderr",
     "output_type": "stream",
     "text": [
      "  Running command git clone --filter=blob:none --quiet https://github.com/cmacdonald/pyterrier_bert.git 'C:\\Users\\vmmv1\\AppData\\Local\\Temp\\pip-req-build-ufjxs50e'\n",
      "  Running command git clone --filter=blob:none --quiet https://github.com/Georgetown-IR-Lab/cedr.git 'C:\\Users\\vmmv1\\AppData\\Local\\Temp\\pip-install-_qfx8ja5\\cedr_7fd5f87f28ad466cb2243be22f4606ab'\n",
      "  Running command git clone --filter=blob:none --quiet https://github.com/terrier-org/pyterrier.git 'C:\\Users\\vmmv1\\AppData\\Local\\Temp\\pip-install-_qfx8ja5\\python-terrier_0d376cafd6f24a16aa89722f1028dbdc'\n",
      "ERROR: Could not find a version that satisfies the requirement torch==1.4.0 (from pyterrierbert) (from versions: 1.7.1, 1.8.0, 1.8.1, 1.9.0, 1.9.1, 1.10.0, 1.10.1, 1.10.2, 1.11.0, 1.12.0, 1.12.1, 1.13.0, 1.13.1, 2.0.0, 2.0.1, 2.1.0, 2.1.1, 2.1.2, 2.2.0, 2.2.1, 2.2.2, 2.3.0, 2.3.1, 2.4.0, 2.4.1, 2.5.0, 2.5.1, 2.6.0)\n",
      "ERROR: No matching distribution found for torch==1.4.0\n"
     ]
    },
    {
     "name": "stdout",
     "output_type": "stream",
     "text": [
      "Requirement already satisfied: faiss-cpu in c:\\users\\vmmv1\\anaconda3\\envs\\ml4se_3.9\\lib\\site-packages (1.10.0)\n",
      "Requirement already satisfied: numpy<3.0,>=1.25.0 in c:\\users\\vmmv1\\anaconda3\\envs\\ml4se_3.9\\lib\\site-packages (from faiss-cpu) (1.26.4)\n",
      "Requirement already satisfied: packaging in c:\\users\\vmmv1\\anaconda3\\envs\\ml4se_3.9\\lib\\site-packages (from faiss-cpu) (21.3)\n",
      "Requirement already satisfied: pyparsing!=3.0.5,>=2.0.2 in c:\\users\\vmmv1\\anaconda3\\envs\\ml4se_3.9\\lib\\site-packages (from packaging->faiss-cpu) (3.2.1)\n"
     ]
    }
   ],
   "execution_count": 1
  },
  {
   "metadata": {},
   "cell_type": "markdown",
   "source": "The code below preferably should print True before running the experiments; if it's True, it will run faster",
   "id": "9dbac7e6338bd012"
  },
  {
   "metadata": {
    "ExecuteTime": {
     "end_time": "2025-03-19T22:53:59.012435Z",
     "start_time": "2025-03-19T22:53:57.440237Z"
    }
   },
   "cell_type": "code",
   "source": [
    "import torch\n",
    "print(torch.cuda.is_available())\n",
    "print(torch.cuda.device_count())\n"
   ],
   "id": "6a4e3062eee800d1",
   "outputs": [
    {
     "name": "stdout",
     "output_type": "stream",
     "text": [
      "True\n",
      "1\n"
     ]
    }
   ],
   "execution_count": 2
  },
  {
   "metadata": {
    "ExecuteTime": {
     "end_time": "2025-03-19T22:54:10.499762Z",
     "start_time": "2025-03-19T22:54:00.351575Z"
    }
   },
   "cell_type": "code",
   "source": [
    "import pyterrier as pt\n",
    "import pandas as pd\n",
    "msmarco = pt.get_dataset('msmarco_passage')\n",
    "dataset = list(msmarco.get_corpus_iter())[:1000]\n",
    "\n",
    "print(\"First document:\", dataset[0] if len(dataset) > 0 else \"Dataset is empty!\")"
   ],
   "id": "43f238749a6db9b",
   "outputs": [
    {
     "name": "stdout",
     "output_type": "stream",
     "text": [
      "First document: {'docno': '0', 'text': 'The presence of communication amid scientific minds was equally important to the success of the Manhattan Project as scientific intellect was. The only cloud hanging over the impressive achievement of the atomic researchers and engineers is what their success truly meant; hundreds of thousands of innocent lives obliterated.\\n'}\n"
     ]
    }
   ],
   "execution_count": 3
  },
  {
   "metadata": {
    "ExecuteTime": {
     "end_time": "2025-03-19T22:54:36.011681Z",
     "start_time": "2025-03-19T22:54:35.530108Z"
    }
   },
   "cell_type": "code",
   "source": [
    "df_dataset = pd.DataFrame(dataset)\n",
    "queries = msmarco.get_topics(\"dev.small\")[:1000]\n",
    "queries = pd.DataFrame(queries).reset_index(drop=True)\n",
    "queries = queries.rename(columns={\"qid\": \"query_id\"})\n",
    "queries[\"query_id\"] = queries[\"query_id\"].astype(str)  # Convert to string\n",
    "queries[\"query\"] = queries[\"query\"].astype(str)  # Ensure query column is string\n",
    "\n",
    "# Check DataFrame format\n",
    "print(queries.dtypes)\n",
    "print(\"Queries:\\n \", queries.head())\n"
   ],
   "id": "64f0a501cdb02a61",
   "outputs": [
    {
     "name": "stdout",
     "output_type": "stream",
     "text": [
      "query_id    object\n",
      "query       object\n",
      "dtype: object\n",
      "Queries:\n",
      "    query_id                                          query\n",
      "0  1048585                   what is paula deen s brother\n",
      "1        2                       androgen receptor define\n",
      "2   524332  treating tension headaches without medication\n",
      "3  1048642                            what is paranoid sc\n",
      "4   524447            treatment of varicose veins in legs\n"
     ]
    },
    {
     "name": "stderr",
     "output_type": "stream",
     "text": [
      "Java started (triggered by _read_topics_singleline) and loaded: pyterrier.java, pyterrier.terrier.java [version=5.11 (build: craig.macdonald 2025-01-13 21:29), helper_version=0.0.8]\n"
     ]
    }
   ],
   "execution_count": 4
  },
  {
   "metadata": {
    "ExecuteTime": {
     "end_time": "2025-03-19T22:54:57.810648Z",
     "start_time": "2025-03-19T22:54:57.780050Z"
    }
   },
   "cell_type": "code",
   "source": [
    "result_relevance = msmarco.get_qrels(\"dev.small\")[:1000]\n",
    "print(\"Result relevance: \\n \", result_relevance.head())"
   ],
   "id": "2fce1b6471da8fbe",
   "outputs": [
    {
     "name": "stdout",
     "output_type": "stream",
     "text": [
      "Result relevance: \n",
      "        qid    docno  label\n",
      "0  300674  7067032      1\n",
      "1  125705  7067056      1\n",
      "2   94798  7067181      1\n",
      "3    9083  7067274      1\n",
      "4  174249  7067348      1\n"
     ]
    }
   ],
   "execution_count": 5
  },
  {
   "metadata": {
    "ExecuteTime": {
     "end_time": "2025-03-19T22:55:01.317111Z",
     "start_time": "2025-03-19T22:55:00.208972Z"
    }
   },
   "cell_type": "code",
   "source": [
    "import os\n",
    "\n",
    "marco_index_src=os.path.abspath(\"msmarco-index\")\n",
    "if not os.path.exists(marco_index_src):\n",
    "    print(\"Index not found. Creating a new index...\")\n",
    "    # Create index with metadata\n",
    "    indexer = pt.IterDictIndexer(marco_index_src, meta=[\"docno\"])\n",
    "    index_ref = indexer.index(msmarco.get_corpus_iter())\n",
    "\n",
    "    print(\"Index successfully created!\")\n",
    "\n",
    "index = pt.IndexFactory.of(marco_index_src)"
   ],
   "id": "9557fffe1e287b2e",
   "outputs": [],
   "execution_count": 6
  },
  {
   "metadata": {
    "ExecuteTime": {
     "end_time": "2025-03-19T23:05:54.455492Z",
     "start_time": "2025-03-19T23:05:54.444434Z"
    }
   },
   "cell_type": "code",
   "source": [
    "bm25 = pt.BatchRetrieve(index, wmodel=\"BM25\")\n",
    "rm3 = pt.rewrite.RM3(index)"
   ],
   "id": "c5b2eadbd2bafd26",
   "outputs": [
    {
     "name": "stderr",
     "output_type": "stream",
     "text": [
      "C:\\Users\\vmmv1\\AppData\\Local\\Temp\\ipykernel_6180\\1771524646.py:1: DeprecationWarning: Call to deprecated class BatchRetrieve. (use pt.terrier.Retriever() instead) -- Deprecated since version 0.11.0.\n",
      "  bm25 = pt.BatchRetrieve(index, wmodel=\"BM25\")\n"
     ]
    }
   ],
   "execution_count": 17
  },
  {
   "metadata": {
    "ExecuteTime": {
     "end_time": "2025-03-19T23:06:06.418596Z",
     "start_time": "2025-03-19T23:06:02.951260Z"
    }
   },
   "cell_type": "code",
   "source": [
    "from pyterrier_colbert.indexing import ColBERTIndexer\n",
    "from pyterrier_colbert.ranking import ColBERTFactory\n",
    "import wget\n",
    "import zipfile\n",
    "\n",
    "checkpoint_url = \"http://www.dcs.gla.ac.uk/~craigm/colbert.dnn.zip\"\n",
    "extract_dir = \"colbert_checkpoint\"\n",
    "checkpoint_path = \"colbert_checkpoint.zip\"\n",
    "\n",
    "if not os.path.exists(checkpoint_path):\n",
    "    print(\"Downloading checkpoint...\")\n",
    "    wget.download(checkpoint_url, checkpoint_path)\n",
    "if not os.path.exists(extract_dir):\n",
    "    with zipfile.ZipFile(checkpoint_path, 'r') as zip_ref:\n",
    "        zip_ref.extractall(extract_dir)\n",
    "\n",
    "colbert_checkpoint_path = os.path.abspath(\"colbert_checkpoint/colbert.dnn\")\n",
    "index_root = os.path.abspath(\"msmarco-index\")\n",
    "index_name = os.path.abspath(\"colbert-index\")\n",
    "\n",
    "colbert_index = ColBERTIndexer(\n",
    "    checkpoint=colbert_checkpoint_path,\n",
    "    index_root=index_root,\n",
    "    index_name=index_name,\n",
    "    chunksize=64,\n",
    "    gpu=True # if the torch.cuda returned False, comment this\n",
    ")\n",
    "colbert_index.index(dataset[:10])\n",
    "\n",
    "# Retrieval\n",
    "colbert_factory = ColBERTFactory(\n",
    "    checkpoint=colbert_checkpoint_path,\n",
    "    index_root=index_root,\n",
    "    index_name=index_name\n",
    ")"
   ],
   "id": "3d7ef6656d43f2b4",
   "outputs": [
    {
     "name": "stderr",
     "output_type": "stream",
     "text": [
      "C:\\Users\\vmmv1\\anaconda3\\envs\\ML4SE_3.9\\lib\\site-packages\\tqdm\\auto.py:21: TqdmWarning: IProgress not found. Please update jupyter and ipywidgets. See https://ipywidgets.readthedocs.io/en/stable/user_install.html\n",
      "  from .autonotebook import tqdm as notebook_tqdm\n"
     ]
    },
    {
     "name": "stdout",
     "output_type": "stream",
     "text": [
      "[Mar 20, 00:06:04] [0] \t\t #> Local args.bsize = 128\n",
      "[Mar 20, 00:06:04] [0] \t\t #> args.index_root = C:\\University\\Info-Retrieval\\IR-research-project\\src\\src\\msmarco-index\n",
      "[Mar 20, 00:06:04] [0] \t\t #> self.possible_subset_sizes = [1491308]\n"
     ]
    },
    {
     "name": "stderr",
     "output_type": "stream",
     "text": [
      "Some weights of ColBERT were not initialized from the model checkpoint at bert-base-uncased and are newly initialized: ['linear.weight']\n",
      "You should probably TRAIN this model on a down-stream task to be able to use it for predictions and inference.\n"
     ]
    },
    {
     "name": "stdout",
     "output_type": "stream",
     "text": [
      "[Mar 20, 00:06:05] #> Loading model checkpoint.\n",
      "[Mar 20, 00:06:05] #> Loading checkpoint C:\\University\\Info-Retrieval\\IR-research-project\\src\\src\\colbert_checkpoint\\colbert.dnn\n",
      "[Mar 20, 00:06:05] #> checkpoint['epoch'] = 0\n",
      "[Mar 20, 00:06:05] #> checkpoint['batch'] = 44500\n",
      "\n",
      "\n",
      "\n",
      "\n",
      "[Mar 20, 00:06:05] #> Note: Output directory C:\\University\\Info-Retrieval\\IR-research-project\\src\\src\\msmarco-index already exists\n",
      "\n",
      "\n",
      "\n",
      "\n",
      "[Mar 20, 00:06:05] #> Note: Output directory C:\\University\\Info-Retrieval\\IR-research-project\\src\\src\\colbert-index already exists\n",
      "\n",
      "\n",
      "[Mar 20, 00:06:06] [0] \t\t #> Saved batch #0 to C:\\University\\Info-Retrieval\\IR-research-project\\src\\src\\colbert-index\\0.pt \t\t Saving Throughput = 59.6k passages per minute.\n",
      "\n"
     ]
    },
    {
     "ename": "ZeroDivisionError",
     "evalue": "float division by zero",
     "output_type": "error",
     "traceback": [
      "\u001B[1;31m---------------------------------------------------------------------------\u001B[0m",
      "\u001B[1;31mZeroDivisionError\u001B[0m                         Traceback (most recent call last)",
      "Cell \u001B[1;32mIn[18], line 28\u001B[0m\n\u001B[0;32m     19\u001B[0m index_name \u001B[38;5;241m=\u001B[39m os\u001B[38;5;241m.\u001B[39mpath\u001B[38;5;241m.\u001B[39mabspath(\u001B[38;5;124m\"\u001B[39m\u001B[38;5;124mcolbert-index\u001B[39m\u001B[38;5;124m\"\u001B[39m)\n\u001B[0;32m     21\u001B[0m colbert_index \u001B[38;5;241m=\u001B[39m ColBERTIndexer(\n\u001B[0;32m     22\u001B[0m     checkpoint\u001B[38;5;241m=\u001B[39mcolbert_checkpoint_path,\n\u001B[0;32m     23\u001B[0m     index_root\u001B[38;5;241m=\u001B[39mindex_root,\n\u001B[1;32m   (...)\u001B[0m\n\u001B[0;32m     26\u001B[0m     gpu\u001B[38;5;241m=\u001B[39m\u001B[38;5;28;01mTrue\u001B[39;00m \u001B[38;5;66;03m# if the torch.cuda returned False, comment this\u001B[39;00m\n\u001B[0;32m     27\u001B[0m )\n\u001B[1;32m---> 28\u001B[0m \u001B[43mcolbert_index\u001B[49m\u001B[38;5;241;43m.\u001B[39;49m\u001B[43mindex\u001B[49m\u001B[43m(\u001B[49m\u001B[43mdataset\u001B[49m\u001B[43m[\u001B[49m\u001B[43m:\u001B[49m\u001B[38;5;241;43m10\u001B[39;49m\u001B[43m]\u001B[49m\u001B[43m)\u001B[49m\n\u001B[0;32m     30\u001B[0m \u001B[38;5;66;03m# Retrieval\u001B[39;00m\n\u001B[0;32m     31\u001B[0m colbert_factory \u001B[38;5;241m=\u001B[39m ColBERTFactory(\n\u001B[0;32m     32\u001B[0m     checkpoint\u001B[38;5;241m=\u001B[39mcolbert_checkpoint_path,\n\u001B[0;32m     33\u001B[0m     index_root\u001B[38;5;241m=\u001B[39mindex_root,\n\u001B[0;32m     34\u001B[0m     index_name\u001B[38;5;241m=\u001B[39mindex_name\n\u001B[0;32m     35\u001B[0m )\n",
      "File \u001B[1;32m~\\anaconda3\\envs\\ML4SE_3.9\\lib\\site-packages\\pyterrier_colbert\\indexing.py:334\u001B[0m, in \u001B[0;36mColBERTIndexer.index\u001B[1;34m(self, iterator)\u001B[0m\n\u001B[0;32m    332\u001B[0m create_directory(\u001B[38;5;28mself\u001B[39m\u001B[38;5;241m.\u001B[39margs\u001B[38;5;241m.\u001B[39mindex_root)\n\u001B[0;32m    333\u001B[0m create_directory(\u001B[38;5;28mself\u001B[39m\u001B[38;5;241m.\u001B[39margs\u001B[38;5;241m.\u001B[39mindex_path)\n\u001B[1;32m--> 334\u001B[0m \u001B[43mceg\u001B[49m\u001B[38;5;241;43m.\u001B[39;49m\u001B[43mencode\u001B[49m\u001B[43m(\u001B[49m\u001B[43m)\u001B[49m\n\u001B[0;32m    335\u001B[0m \u001B[38;5;28mself\u001B[39m\u001B[38;5;241m.\u001B[39mcolbert \u001B[38;5;241m=\u001B[39m ceg\u001B[38;5;241m.\u001B[39mcolbert\n\u001B[0;32m    336\u001B[0m \u001B[38;5;28mself\u001B[39m\u001B[38;5;241m.\u001B[39mcheckpoint \u001B[38;5;241m=\u001B[39m ceg\u001B[38;5;241m.\u001B[39mcheckpoint \n",
      "File \u001B[1;32m~\\anaconda3\\envs\\ML4SE_3.9\\lib\\site-packages\\pyterrier_colbert\\indexing.py:420\u001B[0m, in \u001B[0;36mCollectionEncoderIds.encode\u001B[1;34m(self)\u001B[0m\n\u001B[0;32m    418\u001B[0m     overall_throughput \u001B[38;5;241m=\u001B[39m compute_throughput(local_docs_processed, t0, t3)\n\u001B[0;32m    419\u001B[0m     this_encoding_throughput \u001B[38;5;241m=\u001B[39m compute_throughput(\u001B[38;5;28mlen\u001B[39m(lines), t1, t2)\n\u001B[1;32m--> 420\u001B[0m     this_saving_throughput \u001B[38;5;241m=\u001B[39m \u001B[43mcompute_throughput\u001B[49m\u001B[43m(\u001B[49m\u001B[38;5;28;43mlen\u001B[39;49m\u001B[43m(\u001B[49m\u001B[43mlines\u001B[49m\u001B[43m)\u001B[49m\u001B[43m,\u001B[49m\u001B[43m \u001B[49m\u001B[43mt2\u001B[49m\u001B[43m,\u001B[49m\u001B[43m \u001B[49m\u001B[43mt3\u001B[49m\u001B[43m)\u001B[49m\n\u001B[0;32m    422\u001B[0m     \u001B[38;5;28mself\u001B[39m\u001B[38;5;241m.\u001B[39mprint(\u001B[38;5;124mf\u001B[39m\u001B[38;5;124m'\u001B[39m\u001B[38;5;124m#> Completed batch #\u001B[39m\u001B[38;5;132;01m{\u001B[39;00mbatch_idx\u001B[38;5;132;01m}\u001B[39;00m\u001B[38;5;124m (starting at passage #\u001B[39m\u001B[38;5;132;01m{\u001B[39;00moffset\u001B[38;5;132;01m}\u001B[39;00m\u001B[38;5;124m) \u001B[39m\u001B[38;5;130;01m\\t\u001B[39;00m\u001B[38;5;130;01m\\t\u001B[39;00m\u001B[38;5;124m'\u001B[39m\n\u001B[0;32m    423\u001B[0m             \u001B[38;5;124mf\u001B[39m\u001B[38;5;124m'\u001B[39m\u001B[38;5;124mPassages/min: \u001B[39m\u001B[38;5;132;01m{\u001B[39;00moverall_throughput\u001B[38;5;132;01m}\u001B[39;00m\u001B[38;5;124m (overall), \u001B[39m\u001B[38;5;124m'\u001B[39m,\n\u001B[0;32m    424\u001B[0m             \u001B[38;5;124mf\u001B[39m\u001B[38;5;124m'\u001B[39m\u001B[38;5;132;01m{\u001B[39;00mthis_encoding_throughput\u001B[38;5;132;01m}\u001B[39;00m\u001B[38;5;124m (this encoding), \u001B[39m\u001B[38;5;124m'\u001B[39m,\n\u001B[0;32m    425\u001B[0m             \u001B[38;5;124mf\u001B[39m\u001B[38;5;124m'\u001B[39m\u001B[38;5;132;01m{\u001B[39;00mthis_saving_throughput\u001B[38;5;132;01m}\u001B[39;00m\u001B[38;5;124m (this saving)\u001B[39m\u001B[38;5;124m'\u001B[39m)\n\u001B[0;32m    427\u001B[0m \u001B[38;5;28mself\u001B[39m\u001B[38;5;241m.\u001B[39msaver_queue\u001B[38;5;241m.\u001B[39mput(\u001B[38;5;28;01mNone\u001B[39;00m)\n",
      "File \u001B[1;32m~\\anaconda3\\envs\\ML4SE_3.9\\lib\\site-packages\\pyterrier_colbert\\indexing.py:216\u001B[0m, in \u001B[0;36mcompute_throughput\u001B[1;34m(size, t0, t1)\u001B[0m\n\u001B[0;32m    215\u001B[0m \u001B[38;5;28;01mdef\u001B[39;00m \u001B[38;5;21mcompute_throughput\u001B[39m(size, t0, t1):\n\u001B[1;32m--> 216\u001B[0m     throughput \u001B[38;5;241m=\u001B[39m \u001B[43msize\u001B[49m\u001B[43m \u001B[49m\u001B[38;5;241;43m/\u001B[39;49m\u001B[43m \u001B[49m\u001B[43m(\u001B[49m\u001B[43mt1\u001B[49m\u001B[43m \u001B[49m\u001B[38;5;241;43m-\u001B[39;49m\u001B[43m \u001B[49m\u001B[43mt0\u001B[49m\u001B[43m)\u001B[49m \u001B[38;5;241m*\u001B[39m \u001B[38;5;241m60\u001B[39m\n\u001B[0;32m    218\u001B[0m     \u001B[38;5;28;01mif\u001B[39;00m throughput \u001B[38;5;241m>\u001B[39m \u001B[38;5;241m1000\u001B[39m \u001B[38;5;241m*\u001B[39m \u001B[38;5;241m1000\u001B[39m:\n\u001B[0;32m    219\u001B[0m         throughput \u001B[38;5;241m=\u001B[39m throughput \u001B[38;5;241m/\u001B[39m (\u001B[38;5;241m1000\u001B[39m\u001B[38;5;241m*\u001B[39m\u001B[38;5;241m1000\u001B[39m)\n",
      "\u001B[1;31mZeroDivisionError\u001B[0m: float division by zero"
     ]
    }
   ],
   "execution_count": 18
  },
  {
   "metadata": {
    "ExecuteTime": {
     "end_time": "2025-03-19T23:08:33.224380Z",
     "start_time": "2025-03-19T23:08:30.289965Z"
    }
   },
   "cell_type": "code",
   "source": [
    "from pyterrier.measures import nDCG, MAP\n",
    "pipeline = bm25 >> rm3\n",
    "result = pt.Experiment(\n",
    "    [pipeline],\n",
    "    queries[:100],\n",
    "    result_relevance[:100],\n",
    "    eval_metrics=[MAP, nDCG @ 10]\n",
    ")\n",
    "print(result)"
   ],
   "id": "f48c2e01e03befd4",
   "outputs": [
    {
     "ename": "ValueError",
     "evalue": "unknown run format: DataFrame missing columns: ['doc_id', 'score'] (found ['query_id', 'query_0', 'query'])",
     "output_type": "error",
     "traceback": [
      "\u001B[1;31m---------------------------------------------------------------------------\u001B[0m",
      "\u001B[1;31mValueError\u001B[0m                                Traceback (most recent call last)",
      "Cell \u001B[1;32mIn[21], line 3\u001B[0m\n\u001B[0;32m      1\u001B[0m \u001B[38;5;28;01mfrom\u001B[39;00m \u001B[38;5;21;01mpyterrier\u001B[39;00m\u001B[38;5;21;01m.\u001B[39;00m\u001B[38;5;21;01mmeasures\u001B[39;00m \u001B[38;5;28;01mimport\u001B[39;00m nDCG, MAP\n\u001B[0;32m      2\u001B[0m pipeline \u001B[38;5;241m=\u001B[39m bm25 \u001B[38;5;241m>>\u001B[39m rm3\n\u001B[1;32m----> 3\u001B[0m result \u001B[38;5;241m=\u001B[39m \u001B[43mpt\u001B[49m\u001B[38;5;241;43m.\u001B[39;49m\u001B[43mExperiment\u001B[49m\u001B[43m(\u001B[49m\n\u001B[0;32m      4\u001B[0m \u001B[43m    \u001B[49m\u001B[43m[\u001B[49m\u001B[43mpipeline\u001B[49m\u001B[43m]\u001B[49m\u001B[43m,\u001B[49m\n\u001B[0;32m      5\u001B[0m \u001B[43m    \u001B[49m\u001B[43mqueries\u001B[49m\u001B[43m[\u001B[49m\u001B[43m:\u001B[49m\u001B[38;5;241;43m100\u001B[39;49m\u001B[43m]\u001B[49m\u001B[43m,\u001B[49m\n\u001B[0;32m      6\u001B[0m \u001B[43m    \u001B[49m\u001B[43mresult_relevance\u001B[49m\u001B[43m[\u001B[49m\u001B[43m:\u001B[49m\u001B[38;5;241;43m100\u001B[39;49m\u001B[43m]\u001B[49m\u001B[43m,\u001B[49m\n\u001B[0;32m      7\u001B[0m \u001B[43m    \u001B[49m\u001B[43meval_metrics\u001B[49m\u001B[38;5;241;43m=\u001B[39;49m\u001B[43m[\u001B[49m\u001B[43mMAP\u001B[49m\u001B[43m,\u001B[49m\u001B[43m \u001B[49m\u001B[43mnDCG\u001B[49m\u001B[43m \u001B[49m\u001B[38;5;241;43m@\u001B[39;49m\u001B[43m \u001B[49m\u001B[38;5;241;43m10\u001B[39;49m\u001B[43m]\u001B[49m\n\u001B[0;32m      8\u001B[0m \u001B[43m)\u001B[49m\n\u001B[0;32m      9\u001B[0m \u001B[38;5;28mprint\u001B[39m(result)\n",
      "File \u001B[1;32m~\\anaconda3\\envs\\ML4SE_3.9\\lib\\site-packages\\pyterrier\\pipelines.py:652\u001B[0m, in \u001B[0;36mExperiment\u001B[1;34m(retr_systems, topics, qrels, eval_metrics, names, perquery, dataframe, batch_size, filter_by_qrels, filter_by_topics, baseline, test, correction, correction_alpha, highlight, round, verbose, save_dir, save_mode, save_format, precompute_prefix, **kwargs)\u001B[0m\n\u001B[0;32m    649\u001B[0m         \u001B[38;5;28;01mraise\u001B[39;00m \u001B[38;5;167;01mValueError\u001B[39;00m(\u001B[38;5;124m\"\u001B[39m\u001B[38;5;124mUnrecognised save_mode \u001B[39m\u001B[38;5;132;01m%s\u001B[39;00m\u001B[38;5;124m\"\u001B[39m \u001B[38;5;241m%\u001B[39m \u001B[38;5;28mstr\u001B[39m(save_format)) \n\u001B[0;32m    650\u001B[0m     save_file \u001B[38;5;241m=\u001B[39m os\u001B[38;5;241m.\u001B[39mpath\u001B[38;5;241m.\u001B[39mjoin(save_dir, \u001B[38;5;124m\"\u001B[39m\u001B[38;5;132;01m%s\u001B[39;00m\u001B[38;5;124m.\u001B[39m\u001B[38;5;132;01m%s\u001B[39;00m\u001B[38;5;124m\"\u001B[39m \u001B[38;5;241m%\u001B[39m (name, save_ext))\n\u001B[1;32m--> 652\u001B[0m time, evalMeasuresDict \u001B[38;5;241m=\u001B[39m \u001B[43m_run_and_evaluate\u001B[49m\u001B[43m(\u001B[49m\n\u001B[0;32m    653\u001B[0m \u001B[43m    \u001B[49m\u001B[43msystem\u001B[49m\u001B[43m,\u001B[49m\u001B[43m \u001B[49m\u001B[43mexecution_topics\u001B[49m\u001B[43m,\u001B[49m\u001B[43m \u001B[49m\u001B[43mqrels\u001B[49m\u001B[43m,\u001B[49m\u001B[43m \u001B[49m\u001B[43meval_metrics\u001B[49m\u001B[43m,\u001B[49m\u001B[43m \u001B[49m\n\u001B[0;32m    654\u001B[0m \u001B[43m    \u001B[49m\u001B[43mperquery\u001B[49m\u001B[38;5;241;43m=\u001B[39;49m\u001B[43mperquery\u001B[49m\u001B[43m \u001B[49m\u001B[38;5;129;43;01mor\u001B[39;49;00m\u001B[43m \u001B[49m\u001B[43mbaseline\u001B[49m\u001B[43m \u001B[49m\u001B[38;5;129;43;01mis\u001B[39;49;00m\u001B[43m \u001B[49m\u001B[38;5;129;43;01mnot\u001B[39;49;00m\u001B[43m \u001B[49m\u001B[38;5;28;43;01mNone\u001B[39;49;00m\u001B[43m,\u001B[49m\u001B[43m \u001B[49m\n\u001B[0;32m    655\u001B[0m \u001B[43m    \u001B[49m\u001B[43mbatch_size\u001B[49m\u001B[38;5;241;43m=\u001B[39;49m\u001B[43mbatch_size\u001B[49m\u001B[43m,\u001B[49m\u001B[43m \u001B[49m\n\u001B[0;32m    656\u001B[0m \u001B[43m    \u001B[49m\u001B[43mbackfill_qids\u001B[49m\u001B[38;5;241;43m=\u001B[39;49m\u001B[43mall_topic_qids\u001B[49m\u001B[43m \u001B[49m\u001B[38;5;28;43;01mif\u001B[39;49;00m\u001B[43m \u001B[49m\u001B[43mperquery\u001B[49m\u001B[43m \u001B[49m\u001B[38;5;28;43;01melse\u001B[39;49;00m\u001B[43m \u001B[49m\u001B[38;5;28;43;01mNone\u001B[39;49;00m\u001B[43m,\u001B[49m\n\u001B[0;32m    657\u001B[0m \u001B[43m    \u001B[49m\u001B[43msave_file\u001B[49m\u001B[38;5;241;43m=\u001B[39;49m\u001B[43msave_file\u001B[49m\u001B[43m,\u001B[49m\n\u001B[0;32m    658\u001B[0m \u001B[43m    \u001B[49m\u001B[43msave_mode\u001B[49m\u001B[38;5;241;43m=\u001B[39;49m\u001B[43msave_mode\u001B[49m\u001B[43m,\u001B[49m\n\u001B[0;32m    659\u001B[0m \u001B[43m    \u001B[49m\u001B[43msave_format\u001B[49m\u001B[38;5;241;43m=\u001B[39;49m\u001B[43msave_format\u001B[49m\u001B[43m,\u001B[49m\n\u001B[0;32m    660\u001B[0m \u001B[43m    \u001B[49m\u001B[43mpbar\u001B[49m\u001B[38;5;241;43m=\u001B[39;49m\u001B[43mpbar\u001B[49m\u001B[43m)\u001B[49m\n\u001B[0;32m    662\u001B[0m \u001B[38;5;28;01mif\u001B[39;00m baseline \u001B[38;5;129;01mis\u001B[39;00m \u001B[38;5;129;01mnot\u001B[39;00m \u001B[38;5;28;01mNone\u001B[39;00m:\n\u001B[0;32m    663\u001B[0m     evalDictsPerQ\u001B[38;5;241m.\u001B[39mappend(evalMeasuresDict)\n",
      "File \u001B[1;32m~\\anaconda3\\envs\\ML4SE_3.9\\lib\\site-packages\\pyterrier\\pipelines.py:355\u001B[0m, in \u001B[0;36m_run_and_evaluate\u001B[1;34m(system, topics, qrels, metrics, pbar, save_mode, save_file, save_format, perquery, batch_size, backfill_qids)\u001B[0m\n\u001B[0;32m    352\u001B[0m     \u001B[38;5;28;01mif\u001B[39;00m \u001B[38;5;28mlen\u001B[39m(res) \u001B[38;5;241m==\u001B[39m \u001B[38;5;241m0\u001B[39m:\n\u001B[0;32m    353\u001B[0m         \u001B[38;5;28;01mraise\u001B[39;00m \u001B[38;5;167;01mValueError\u001B[39;00m(\u001B[38;5;124m\"\u001B[39m\u001B[38;5;132;01m%d\u001B[39;00m\u001B[38;5;124m topics, but no results received from \u001B[39m\u001B[38;5;132;01m%s\u001B[39;00m\u001B[38;5;124m\"\u001B[39m \u001B[38;5;241m%\u001B[39m (\u001B[38;5;28mlen\u001B[39m(topics), \u001B[38;5;28mstr\u001B[39m(system)) )\n\u001B[1;32m--> 355\u001B[0m     evalMeasuresDict \u001B[38;5;241m=\u001B[39m \u001B[43m_ir_measures_to_dict\u001B[49m\u001B[43m(\u001B[49m\n\u001B[0;32m    356\u001B[0m \u001B[43m        \u001B[49m\u001B[43mir_measures\u001B[49m\u001B[38;5;241;43m.\u001B[39;49m\u001B[43miter_calc\u001B[49m\u001B[43m(\u001B[49m\u001B[43mmetrics\u001B[49m\u001B[43m,\u001B[49m\u001B[43m \u001B[49m\u001B[43mqrels\u001B[49m\u001B[43m,\u001B[49m\u001B[43m \u001B[49m\u001B[43mres\u001B[49m\u001B[38;5;241;43m.\u001B[39;49m\u001B[43mrename\u001B[49m\u001B[43m(\u001B[49m\u001B[43mcolumns\u001B[49m\u001B[38;5;241;43m=\u001B[39;49m\u001B[43m_irmeasures_columns\u001B[49m\u001B[43m)\u001B[49m\u001B[43m)\u001B[49m\u001B[43m,\u001B[49m\u001B[43m \u001B[49m\n\u001B[0;32m    357\u001B[0m \u001B[43m        \u001B[49m\u001B[43mmetrics\u001B[49m\u001B[43m,\u001B[49m\n\u001B[0;32m    358\u001B[0m \u001B[43m        \u001B[49m\u001B[43mrev_mapping\u001B[49m\u001B[43m,\u001B[49m\n\u001B[0;32m    359\u001B[0m \u001B[43m        \u001B[49m\u001B[43mnum_q\u001B[49m\u001B[43m,\u001B[49m\n\u001B[0;32m    360\u001B[0m \u001B[43m        \u001B[49m\u001B[43mperquery\u001B[49m\u001B[43m,\u001B[49m\n\u001B[0;32m    361\u001B[0m \u001B[43m        \u001B[49m\u001B[43mbackfill_qids\u001B[49m\u001B[43m)\u001B[49m\n\u001B[0;32m    362\u001B[0m     pbar\u001B[38;5;241m.\u001B[39mupdate()\n\u001B[0;32m    363\u001B[0m \u001B[38;5;28;01melse\u001B[39;00m:\n",
      "File \u001B[1;32m~\\anaconda3\\envs\\ML4SE_3.9\\lib\\site-packages\\pyterrier\\pipelines.py:139\u001B[0m, in \u001B[0;36m_ir_measures_to_dict\u001B[1;34m(seq, measures, rev_mapping, num_q, perquery, backfill_qids)\u001B[0m\n\u001B[0;32m    136\u001B[0m \u001B[38;5;28;01massert\u001B[39;00m backfill_qids \u001B[38;5;129;01mis\u001B[39;00m \u001B[38;5;28;01mNone\u001B[39;00m, \u001B[38;5;124m\"\u001B[39m\u001B[38;5;124mbackfill_qids only supported when perquery=True\u001B[39m\u001B[38;5;124m\"\u001B[39m\n\u001B[0;32m    138\u001B[0m metric_agg \u001B[38;5;241m=\u001B[39m {rev_mapping\u001B[38;5;241m.\u001B[39mget(m, \u001B[38;5;28mstr\u001B[39m(m)): m\u001B[38;5;241m.\u001B[39maggregator() \u001B[38;5;28;01mfor\u001B[39;00m m \u001B[38;5;129;01min\u001B[39;00m measures}\n\u001B[1;32m--> 139\u001B[0m \u001B[38;5;28;01mfor\u001B[39;00m metric \u001B[38;5;129;01min\u001B[39;00m seq:\n\u001B[0;32m    140\u001B[0m     measure_name \u001B[38;5;241m=\u001B[39m rev_mapping\u001B[38;5;241m.\u001B[39mget(metric\u001B[38;5;241m.\u001B[39mmeasure, \u001B[38;5;28mstr\u001B[39m(metric\u001B[38;5;241m.\u001B[39mmeasure))\n\u001B[0;32m    141\u001B[0m     metric_agg[measure_name]\u001B[38;5;241m.\u001B[39madd(metric\u001B[38;5;241m.\u001B[39mvalue)\n",
      "File \u001B[1;32m~\\anaconda3\\envs\\ML4SE_3.9\\lib\\site-packages\\ir_measures\\providers\\base.py:23\u001B[0m, in \u001B[0;36mEvaluator.iter_calc\u001B[1;34m(self, run)\u001B[0m\n\u001B[0;32m     19\u001B[0m \u001B[38;5;250m\u001B[39m\u001B[38;5;124;03m\"\"\"\u001B[39;00m\n\u001B[0;32m     20\u001B[0m \u001B[38;5;124;03mYields per-topic metrics this run.\u001B[39;00m\n\u001B[0;32m     21\u001B[0m \u001B[38;5;124;03m\"\"\"\u001B[39;00m\n\u001B[0;32m     22\u001B[0m expected_measure_qids \u001B[38;5;241m=\u001B[39m \u001B[38;5;28mset\u001B[39m(itertools\u001B[38;5;241m.\u001B[39mproduct(\u001B[38;5;28mself\u001B[39m\u001B[38;5;241m.\u001B[39mmeasures, \u001B[38;5;28mself\u001B[39m\u001B[38;5;241m.\u001B[39mqrel_qids))\n\u001B[1;32m---> 23\u001B[0m \u001B[38;5;28;01mfor\u001B[39;00m metric \u001B[38;5;129;01min\u001B[39;00m \u001B[38;5;28mself\u001B[39m\u001B[38;5;241m.\u001B[39m_iter_calc(run):\n\u001B[0;32m     24\u001B[0m     expected_measure_qids\u001B[38;5;241m.\u001B[39mdiscard((metric\u001B[38;5;241m.\u001B[39mmeasure, metric\u001B[38;5;241m.\u001B[39mquery_id))\n\u001B[0;32m     25\u001B[0m     \u001B[38;5;28;01myield\u001B[39;00m metric\n",
      "File \u001B[1;32m~\\anaconda3\\envs\\ML4SE_3.9\\lib\\site-packages\\ir_measures\\providers\\pytrec_eval_provider.py:197\u001B[0m, in \u001B[0;36mPytrecEvalEvaluator._iter_calc\u001B[1;34m(self, run)\u001B[0m\n\u001B[0;32m    195\u001B[0m \u001B[38;5;28;01mdef\u001B[39;00m \u001B[38;5;21m_iter_calc\u001B[39m(\u001B[38;5;28mself\u001B[39m, run):\n\u001B[0;32m    196\u001B[0m     \u001B[38;5;66;03m# Convert qrels to dict_of_dict (input format used by pytrec_eval)\u001B[39;00m\n\u001B[1;32m--> 197\u001B[0m     run \u001B[38;5;241m=\u001B[39m \u001B[43mir_measures\u001B[49m\u001B[38;5;241;43m.\u001B[39;49m\u001B[43mutil\u001B[49m\u001B[38;5;241;43m.\u001B[39;49m\u001B[43mRunConverter\u001B[49m\u001B[43m(\u001B[49m\u001B[43mrun\u001B[49m\u001B[43m)\u001B[49m\u001B[38;5;241;43m.\u001B[39;49m\u001B[43mas_dict_of_dict\u001B[49m\u001B[43m(\u001B[49m\u001B[43m)\u001B[49m\n\u001B[0;32m    198\u001B[0m     \u001B[38;5;28;01mfor\u001B[39;00m invoker \u001B[38;5;129;01min\u001B[39;00m \u001B[38;5;28mself\u001B[39m\u001B[38;5;241m.\u001B[39minvokers:\n\u001B[0;32m    199\u001B[0m         \u001B[38;5;28;01myield from\u001B[39;00m invoker\u001B[38;5;241m.\u001B[39miter_calc(run)\n",
      "File \u001B[1;32m~\\anaconda3\\envs\\ML4SE_3.9\\lib\\site-packages\\ir_measures\\util.py:207\u001B[0m, in \u001B[0;36mRunConverter.as_dict_of_dict\u001B[1;34m(self)\u001B[0m\n\u001B[0;32m    205\u001B[0m \u001B[38;5;28;01melse\u001B[39;00m:\n\u001B[0;32m    206\u001B[0m     result \u001B[38;5;241m=\u001B[39m {}\n\u001B[1;32m--> 207\u001B[0m     \u001B[38;5;28;01mfor\u001B[39;00m scored_doc \u001B[38;5;129;01min\u001B[39;00m \u001B[38;5;28mself\u001B[39m\u001B[38;5;241m.\u001B[39mas_namedtuple_iter():\n\u001B[0;32m    208\u001B[0m         \u001B[38;5;28;01mif\u001B[39;00m scored_doc\u001B[38;5;241m.\u001B[39mquery_id \u001B[38;5;129;01mnot\u001B[39;00m \u001B[38;5;129;01min\u001B[39;00m result:\n\u001B[0;32m    209\u001B[0m             result[scored_doc\u001B[38;5;241m.\u001B[39mquery_id] \u001B[38;5;241m=\u001B[39m {}\n",
      "File \u001B[1;32m~\\anaconda3\\envs\\ML4SE_3.9\\lib\\site-packages\\ir_measures\\util.py:224\u001B[0m, in \u001B[0;36mRunConverter.as_namedtuple_iter\u001B[1;34m(self)\u001B[0m\n\u001B[0;32m    222\u001B[0m     \u001B[38;5;28;01myield from\u001B[39;00m (ScoredDoc(sd\u001B[38;5;241m.\u001B[39mquery_id, sd\u001B[38;5;241m.\u001B[39mdoc_id, sd\u001B[38;5;241m.\u001B[39mscore) \u001B[38;5;28;01mfor\u001B[39;00m sd \u001B[38;5;129;01min\u001B[39;00m \u001B[38;5;28mself\u001B[39m\u001B[38;5;241m.\u001B[39mrun\u001B[38;5;241m.\u001B[39mitertuples())\n\u001B[0;32m    223\u001B[0m \u001B[38;5;28;01mif\u001B[39;00m t \u001B[38;5;241m==\u001B[39m \u001B[38;5;124m'\u001B[39m\u001B[38;5;124mUNKNOWN\u001B[39m\u001B[38;5;124m'\u001B[39m:\n\u001B[1;32m--> 224\u001B[0m     \u001B[38;5;28;01mraise\u001B[39;00m \u001B[38;5;167;01mValueError\u001B[39;00m(\u001B[38;5;124mf\u001B[39m\u001B[38;5;124m'\u001B[39m\u001B[38;5;124munknown run format: \u001B[39m\u001B[38;5;132;01m{\u001B[39;00merr\u001B[38;5;132;01m}\u001B[39;00m\u001B[38;5;124m'\u001B[39m)\n",
      "\u001B[1;31mValueError\u001B[0m: unknown run format: DataFrame missing columns: ['doc_id', 'score'] (found ['query_id', 'query_0', 'query'])"
     ]
    }
   ],
   "execution_count": 21
  },
  {
   "metadata": {},
   "cell_type": "code",
   "outputs": [],
   "execution_count": null,
   "source": "",
   "id": "34c9125acf7ce453"
  }
 ],
 "metadata": {
  "kernelspec": {
   "display_name": "Python 3",
   "language": "python",
   "name": "python3"
  },
  "language_info": {
   "codemirror_mode": {
    "name": "ipython",
    "version": 2
   },
   "file_extension": ".py",
   "mimetype": "text/x-python",
   "name": "python",
   "nbconvert_exporter": "python",
   "pygments_lexer": "ipython2",
   "version": "2.7.6"
  }
 },
 "nbformat": 4,
 "nbformat_minor": 5
}
