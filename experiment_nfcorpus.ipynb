{
 "cells": [
  {
   "cell_type": "code",
   "execution_count": null,
   "metadata": {},
   "outputs": [],
   "source": [
    "import torch\n",
    "print(torch.cuda.is_available())\n",
    "print(torch.cuda.device_count())"
   ]
  },
  {
   "cell_type": "code",
   "execution_count": null,
   "metadata": {},
   "outputs": [],
   "source": [
    "import pyterrier as pt\n",
    "import pandas as pd\n",
    "from itertools import filterfalse\n",
    "import os\n",
    "import wget\n",
    "import zipfile\n",
    "\n",
    "pt.init()"
   ]
  },
  {
   "cell_type": "code",
   "execution_count": null,
   "metadata": {},
   "outputs": [],
   "source": [
    "from pyterrier_colbert.indexing import ColBERTIndexer\n",
    "from pyterrier_colbert.ranking import ColBERTFactory"
   ]
  },
  {
   "cell_type": "code",
   "execution_count": 4,
   "metadata": {},
   "outputs": [],
   "source": [
    "from ance.pyterrier_ance import ANCEIndexer, ANCETextScorer"
   ]
  },
  {
   "cell_type": "code",
   "execution_count": 5,
   "metadata": {},
   "outputs": [],
   "source": [
    "nfcorpus = pt.get_dataset(\"irds:beir/nfcorpus/test\")"
   ]
  },
  {
   "cell_type": "code",
   "execution_count": 6,
   "metadata": {},
   "outputs": [],
   "source": [
    "nfcorpus_index_src = os.path.abspath(\"nfcorpus-index\")\n",
    "if not os.path.exists(nfcorpus_index_src):\n",
    "    print(\"Creating a new NFCorpus index for BM25 and RM3...\")\n",
    "    pt.index.IterDictIndexer(nfcorpus_index_src, blocks=True, meta={\"docno\": 20, \"text\": 4096}).index(nfcorpus.get_corpus_iter(), fields=[\"docno\", \"text\"])\n",
    "\n",
    "nfcorpus_index = pt.IndexFactory.of(nfcorpus_index_src)"
   ]
  },
  {
   "cell_type": "code",
   "execution_count": 7,
   "metadata": {},
   "outputs": [],
   "source": [
    "queries = nfcorpus.get_topics(\"text\")\n",
    "qrels = nfcorpus.get_qrels()"
   ]
  },
  {
   "cell_type": "code",
   "execution_count": 8,
   "metadata": {},
   "outputs": [],
   "source": [
    "bm25 = pt.terrier.Retriever(nfcorpus_index, wmodel=\"BM25\", metadata=[\"docno\", \"text\"])\n",
    "rm3 = pt.rewrite.RM3(nfcorpus_index)"
   ]
  },
  {
   "cell_type": "code",
   "execution_count": 9,
   "metadata": {},
   "outputs": [],
   "source": [
    "checkpoint_url = \"http://www.dcs.gla.ac.uk/~craigm/colbert.dnn.zip\"\n",
    "extract_dir = \"colbert_checkpoint\"\n",
    "checkpoint_path = \"colbert_checkpoint.zip\"\n",
    "\n",
    "if not os.path.exists(checkpoint_path):\n",
    "    print(\"Downloading checkpoint...\")\n",
    "    wget.download(checkpoint_url, checkpoint_path)\n",
    "if not os.path.exists(extract_dir):\n",
    "    with zipfile.ZipFile(checkpoint_path, 'r') as zip_ref:\n",
    "        zip_ref.extractall(extract_dir)\n",
    "\n",
    "colbert_checkpoint_path = os.path.abspath(\"colbert_checkpoint/colbert.dnn\")\n",
    "index_root = os.path.abspath(\"nfcorpus-index\")\n",
    "index_name = os.path.abspath(\"nfcorpus-colbert-index\")\n",
    "\n",
    "if not os.path.exists(index_name):\n",
    "    print(\"Index not found. Creating a new NFCorpus index for ColBERT...\")\n",
    "    colbert_index = ColBERTIndexer(\n",
    "        checkpoint=colbert_checkpoint_path,\n",
    "        index_root=index_root,\n",
    "        index_name=index_name,\n",
    "        chunksize=64, # Maybe even 128, the allowed maximum --> it regulates the size of PyTorch temp files that are created by the indexer\n",
    "        gpu=True # if the torch.cuda returned False, comment this\n",
    "    )\n",
    "    colbert_index.index(nfcorpus.get_corpus_iter())\n",
    "    print(\"Index successfully created!\")"
   ]
  },
  {
   "cell_type": "code",
   "execution_count": null,
   "metadata": {},
   "outputs": [],
   "source": [
    "colbert_reranker = ColBERTFactory(colbert_checkpoint_path, index_root, index_name)"
   ]
  },
  {
   "cell_type": "code",
   "execution_count": 11,
   "metadata": {},
   "outputs": [],
   "source": [
    "ance_extract_dir = \"ance_checkpoint\"\n",
    "ance_checkpoint_path = \"Passage_ANCE_FirstP_Checkpoint.zip\"\n",
    "\n",
    "if not os.path.exists(ance_extract_dir):\n",
    "    with zipfile.ZipFile(ance_checkpoint_path, 'r') as zip_ref:\n",
    "        zip_ref.extractall(ance_extract_dir)"
   ]
  },
  {
   "cell_type": "code",
   "execution_count": 12,
   "metadata": {},
   "outputs": [],
   "source": [
    "ance_checkpoint_path = os.path.abspath(\"ance_checkpoint\")\n",
    "ance_index_name = os.path.abspath(\"nfcorpus-ance-index\")\n",
    "\n",
    "if not os.path.exists(ance_index_name):\n",
    "    print(\"Index not found. Creating a new NFCorpus index for ANCE...\")\n",
    "    ance_index = ANCEIndexer(ance_checkpoint_path, ance_index_name, num_docs=3633)\n",
    "    ance_index.index(nfcorpus.get_corpus_iter())\n",
    "    print(\"Index successfully created!\")"
   ]
  },
  {
   "cell_type": "code",
   "execution_count": null,
   "metadata": {},
   "outputs": [],
   "source": [
    "ance_reranker = ANCETextScorer(ance_checkpoint_path)"
   ]
  },
  {
   "cell_type": "code",
   "execution_count": 14,
   "metadata": {},
   "outputs": [],
   "source": [
    "pipe_dict = {\n",
    "    \"BM25\": bm25,\n",
    "    \"BM25_RM3\": bm25 >> rm3 >> bm25,\n",
    "    \"BM25_COLBERT\": bm25 >> colbert_reranker.text_scorer(),\n",
    "    \"BM25_ANCE\": bm25 >> ance_reranker,\n",
    "    \"BM25_RM3_COLBERT\": bm25 >> rm3 >> bm25 >> colbert_reranker.text_scorer(),\n",
    "    \"BM25_RM3_ANCE\": bm25 >> rm3 >> bm25 >> ance_reranker,\n",
    "    \"BM25_COLBERT_RM3\": bm25 >> colbert_reranker.text_scorer() >> rm3 >> bm25,\n",
    "    \"BM25_COLBERT_ANCE\": bm25 >> colbert_reranker.text_scorer() >> pt.text.get_text(nfcorpus_index) >> ance_reranker,\n",
    "    \"BM25_ANCE_RM3\": bm25 >> ance_reranker >> rm3 >> bm25,\n",
    "    \"BM25_ANCE_COLBERT\": bm25 >> ance_reranker >> colbert_reranker.text_scorer(),\n",
    "    \"BM25_RM3_COLBERT_ANCE\": bm25 >> rm3 >> bm25 >> colbert_reranker.text_scorer() >> pt.text.get_text(nfcorpus_index) >> ance_reranker,\n",
    "    \"BM25_RM3_ANCE_COLBERT\": bm25 >> rm3 >> bm25 >> ance_reranker >> colbert_reranker.text_scorer(),\n",
    "    \"BM25_COLBERT_RM3_ANCE\": bm25 >> colbert_reranker.text_scorer() >> rm3 >> bm25 >> ance_reranker,\n",
    "    \"BM25_COLBERT_ANCE_RM3\": bm25 >> colbert_reranker.text_scorer() >> pt.text.get_text(nfcorpus_index) >> ance_reranker >> rm3 >> bm25,\n",
    "    \"BM25_ANCE_RM3_COLBERT\": bm25 >> ance_reranker >> rm3 >> bm25 >> colbert_reranker.text_scorer(),\n",
    "    \"BM25_ANCE_COLBERT_RM3\": bm25 >> ance_reranker >> colbert_reranker.text_scorer() >> rm3 >> bm25\n",
    "}"
   ]
  },
  {
   "cell_type": "code",
   "execution_count": 15,
   "metadata": {},
   "outputs": [],
   "source": [
    "# Ran for 220 minutes\n",
    "\n",
    "if not os.path.exists(\"nfcorpus-twofold/results.csv\"):\n",
    "    twofold_results = pt.Experiment(\n",
    "        [\n",
    "            bm25,\n",
    "            bm25 >> rm3 >> bm25,\n",
    "            bm25 >> colbert_reranker.text_scorer(),\n",
    "            bm25 >> ance_reranker\n",
    "        ],\n",
    "        queries,\n",
    "        qrels,\n",
    "        [\"map\", \"ndcg_cut_10\", \"recip_rank\", \"mrt\"],\n",
    "        [\"BM25\", \"BM25_RM3\", \"BM25_COLBERT\", \"BM25_ANCE\"],\n",
    "        save_dir=\"nfcorpus-twofold\",\n",
    "        save_mode=\"reuse\",\n",
    "        baseline=0,\n",
    "        correction=\"bonferroni\"\n",
    "    )\n",
    "    twofold_results.to_csv(\"nfcorpus-twofold/results.csv\", sep=',', na_rep=\"NaN\", header=True, index=False)"
   ]
  },
  {
   "cell_type": "code",
   "execution_count": 16,
   "metadata": {},
   "outputs": [],
   "source": [
    "# Ran for 743 minutes\n",
    "\n",
    "if not os.path.exists(\"nfcorpus-threefold/results.csv\"):\n",
    "    bm25_rm3 = pt.Transformer.from_df(pt.io.read_results(\"nfcorpus-twofold/BM25_RM3.res.gz\"), uniform=False)\n",
    "    bm25_colbert = pt.Transformer.from_df(pt.io.read_results(\"nfcorpus-twofold/BM25_COLBERT.res.gz\"), uniform=False)\n",
    "    bm25_ance = pt.Transformer.from_df(pt.io.read_results(\"nfcorpus-twofold/BM25_ANCE.res.gz\"), uniform=False)\n",
    "\n",
    "    threefold_results = pt.Experiment(\n",
    "        [\n",
    "            bm25,\n",
    "            bm25_rm3 >> pt.text.get_text(nfcorpus_index) >> colbert_reranker.text_scorer(),\n",
    "            bm25_rm3 >> pt.text.get_text(nfcorpus_index) >> ance_reranker,\n",
    "            bm25_colbert >> rm3 >> bm25,\n",
    "            bm25_colbert >> pt.text.get_text(nfcorpus_index) >> ance_reranker,\n",
    "            bm25_ance >> rm3 >> bm25,\n",
    "            bm25_ance >> pt.text.get_text(nfcorpus_index) >> colbert_reranker.text_scorer()\n",
    "        ],\n",
    "        queries,\n",
    "        qrels,\n",
    "        [\"map\", \"ndcg_cut_10\", \"recip_rank\", \"mrt\"],\n",
    "        [\"BM25\", \"BM25_RM3_COLBERT\", \"BM25_RM3_ANCE\", \"BM25_COLBERT_RM3\", \"BM25_COLBERT_ANCE\", \"BM25_ANCE_RM3\", \"BM25_ANCE_COLBERT\"],\n",
    "        save_dir=\"nfcorpus-threefold\",\n",
    "        save_mode=\"reuse\",\n",
    "        baseline=0,\n",
    "        correction=\"bonferroni\"\n",
    "    )\n",
    "    threefold_results.to_csv(\"nfcorpus-threefold/results.csv\", sep=',', na_rep=\"NaN\", header=True, index=False)"
   ]
  },
  {
   "cell_type": "code",
   "execution_count": null,
   "metadata": {},
   "outputs": [],
   "source": [
    "# Ran for 1024 minutes\n",
    "\n",
    "if not os.path.exists(\"nfcorpus-fourfold/results.csv\"):\n",
    "    bm25_rm3_colbert = pt.Transformer.from_df(pt.io.read_results(\"nfcorpus-threefold/BM25_RM3_COLBERT.res.gz\"), uniform=False)\n",
    "    bm25_rm3_ance = pt.Transformer.from_df(pt.io.read_results(\"nfcorpus-threefold/BM25_RM3_ANCE.res.gz\"), uniform=False)\n",
    "    bm25_colbert_rm3 = pt.Transformer.from_df(pt.io.read_results(\"nfcorpus-threefold/BM25_COLBERT_RM3.res.gz\"), uniform=False)\n",
    "    bm25_colbert_ance = pt.Transformer.from_df(pt.io.read_results(\"nfcorpus-threefold/BM25_COLBERT_ANCE.res.gz\"), uniform=False)\n",
    "    bm25_ance_rm3 = pt.Transformer.from_df(pt.io.read_results(\"nfcorpus-threefold/BM25_ANCE_RM3.res.gz\"), uniform=False)\n",
    "    bm25_ance_colbert = pt.Transformer.from_df(pt.io.read_results(\"nfcorpus-threefold/BM25_ANCE_COLBERT.res.gz\"), uniform=False)\n",
    "\n",
    "    fourfold_results = pt.Experiment(\n",
    "        [\n",
    "            bm25,\n",
    "            bm25_rm3_colbert >> pt.text.get_text(nfcorpus_index) >> ance_reranker,\n",
    "            bm25_rm3_ance >> pt.text.get_text(nfcorpus_index) >> colbert_reranker.text_scorer(),\n",
    "            bm25_colbert_rm3 >> pt.text.get_text(nfcorpus_index) >> ance_reranker,\n",
    "            bm25_colbert_ance >> rm3 >> bm25,\n",
    "            bm25_ance_rm3 >> pt.text.get_text(nfcorpus_index) >> colbert_reranker.text_scorer(),\n",
    "            bm25_ance_colbert >> rm3 >> bm25\n",
    "        ],\n",
    "        queries,\n",
    "        qrels,\n",
    "        [\"map\", \"ndcg_cut_10\", \"recip_rank\", \"mrt\"],\n",
    "        [\"BM25\", \"BM25_RM3_COLBERT_ANCE\", \"BM25_RM3_ANCE_COLBERT\", \"BM25_COLBERT_RM3_ANCE\", \"BM25_COLBERT_ANCE_RM3\", \"BM25_ANCE_RM3_COLBERT\", \"BM25_ANCE_COLBERT_RM3\"],\n",
    "        save_dir=\"nfcorpus-fourfold\",\n",
    "        save_mode=\"reuse\",\n",
    "        baseline=0,\n",
    "        correction=\"bonferroni\"\n",
    "    )\n",
    "    fourfold_results.to_csv(\"nfcorpus-fourfold/results.csv\", sep=',', na_rep=\"NaN\", header=True, index=False)"
   ]
  }
 ],
 "metadata": {
  "kernelspec": {
   "display_name": ".venv",
   "language": "python",
   "name": "python3"
  },
  "language_info": {
   "codemirror_mode": {
    "name": "ipython",
    "version": 3
   },
   "file_extension": ".py",
   "mimetype": "text/x-python",
   "name": "python",
   "nbconvert_exporter": "python",
   "pygments_lexer": "ipython3",
   "version": "3.11.3"
  }
 },
 "nbformat": 4,
 "nbformat_minor": 2
}
